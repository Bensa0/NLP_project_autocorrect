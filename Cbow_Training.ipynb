{
 "cells": [
  {
   "cell_type": "code",
   "execution_count": 4,
   "metadata": {},
   "outputs": [],
   "source": [
    "import gensim\n",
    "import nltk\n",
    "\n",
    "# Load sample corpus\n",
    "corpus_path = 'Frankenstein.txt'\n",
    "with open(corpus_path, 'r', encoding=\"utf-8\") as f:\n",
    "    corpus = f.read()\n",
    "\n",
    "# Tokenize corpus\n",
    "sentences = nltk.sent_tokenize(corpus)\n",
    "words = [nltk.word_tokenize(sent) for sent in sentences]\n",
    "\n",
    "# Train CBOW model\n",
    "model = gensim.models.Word2Vec(words, min_count=1, vector_size=100, window=5, workers=4, sg=0)\n",
    "\n",
    "# Save trained model\n",
    "model_path = 'Frankenstein_cbow.model'\n",
    "model.save(model_path)\n"
   ]
  },
  {
   "cell_type": "code",
   "execution_count": 14,
   "metadata": {},
   "outputs": [
    {
     "name": "stdout",
     "output_type": "stream",
     "text": [
      "foe.: 0.0010\n",
      "But: 0.0007\n",
      "metals: 0.0007\n",
      "flame: 0.0007\n",
      "department: 0.0006\n",
      "issuing: 0.0006\n",
      "countryman: 0.0006\n",
      "unsettled: 0.0006\n",
      "changeable: 0.0006\n",
      "revolt: 0.0006\n"
     ]
    }
   ],
   "source": [
    "model_path = 'Frankenstein_cbow.model'\n",
    "model = gensim.models.Word2Vec.load(model_path)\n",
    "\n",
    "# Define context sentence\n",
    "context = 'ing on'\n",
    "\n",
    "# Tokenize context sentence\n",
    "context_words = context.split()\n",
    "\n",
    "# Predict next word\n",
    "predictions = model.predict_output_word(context_words, topn=10)\n",
    "\n",
    "# Print predicted words and their probabilities\n",
    "for word, probability in predictions:\n",
    "    print(f\"{word}: {probability:.4f}\")"
   ]
  },
  {
   "cell_type": "code",
   "execution_count": 15,
   "metadata": {},
   "outputs": [
    {
     "data": {
      "text/plain": [
       "<gensim.models.word2vec.Word2Vec at 0x27f54b3f010>"
      ]
     },
     "execution_count": 15,
     "metadata": {},
     "output_type": "execute_result"
    }
   ],
   "source": [
    "model"
   ]
  },
  {
   "cell_type": "code",
   "execution_count": null,
   "metadata": {},
   "outputs": [],
   "source": []
  }
 ],
 "metadata": {
  "kernelspec": {
   "display_name": "Python 3",
   "language": "python",
   "name": "python3"
  },
  "language_info": {
   "codemirror_mode": {
    "name": "ipython",
    "version": 3
   },
   "file_extension": ".py",
   "mimetype": "text/x-python",
   "name": "python",
   "nbconvert_exporter": "python",
   "pygments_lexer": "ipython3",
   "version": "3.10.5"
  },
  "orig_nbformat": 4
 },
 "nbformat": 4,
 "nbformat_minor": 2
}
