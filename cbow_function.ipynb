{
 "cells": [
  {
   "cell_type": "code",
   "execution_count": 2,
   "metadata": {},
   "outputs": [],
   "source": [
    "import numpy as np\n",
    "import keras.backend as K\n",
    "import tensorflow as tf\n",
    "import operator\n",
    "from tensorflow import keras\n",
    "from keras.utils import np_utils\n",
    "\n",
    "from tensorflow.keras.models import Sequential\n",
    "from tensorflow.keras.layers import Dense, Embedding, Reshape, Lambda\n",
    "from tensorflow.keras.utils import to_categorical\n",
    "from tensorflow.keras.preprocessing.text import Tokenizer\n",
    "from tensorflow.keras.utils import plot_model\n",
    "from tensorflow.keras.preprocessing import sequence\n",
    "from sklearn.metrics.pairwise import cosine_distances\n",
    "\n",
    "from sklearn.manifold import TSNE\n",
    "from sklearn.metrics.pairwise import cosine_similarity\n",
    "from sklearn.neighbors import NearestNeighbors as nn\n",
    "from matplotlib import pylab\n",
    "import pandas as pd"
   ]
  },
  {
   "cell_type": "code",
   "execution_count": 3,
   "metadata": {},
   "outputs": [],
   "source": [
    "from keras.models import Sequential\n",
    "from keras.layers import Dense, Embedding, Lambda\n",
    "import keras.backend as K"
   ]
  },
  {
   "cell_type": "code",
   "execution_count": 1,
   "metadata": {},
   "outputs": [],
   "source": [
    "def cbow_model(vocab_size, embedding_dim, window_size):\n",
    "    cbow = Sequential()\n",
    "    cbow.add(Embedding(input_dim=vocab_size, output_dim=embedding_dim, input_length=window_size*2))#embeddings_initializer='glorot_uniform'\n",
    "    cbow.add(Lambda(lambda x: K.mean(x, axis=1), output_shape=(embedding_dim,)))\n",
    "    cbow.add(Dense(vocab_size, activation='softmax'))#kernel_initializer='glorot_uniform'\n",
    "    cbow.compile(loss='categorical_crossentropy', optimizer='adam', metrics=['accuracy'])\n",
    "    #cbow.compile(optimizer=keras.optimizers.Adam(),loss='categorical_crossentropy', metrics=['accuracy'])\n",
    "    return cbow"
   ]
  },
  {
   "cell_type": "code",
   "execution_count": 4,
   "metadata": {},
   "outputs": [],
   "source": [
    "file_name = 'ALICE.txt'\n",
    "corpus = open(file_name).readlines()"
   ]
  },
  {
   "cell_type": "code",
   "execution_count": 5,
   "metadata": {},
   "outputs": [
    {
     "data": {
      "text/plain": [
       "(27165, 2557)"
      ]
     },
     "execution_count": 5,
     "metadata": {},
     "output_type": "execute_result"
    }
   ],
   "source": [
    "# Remove sentences with fewer than 3 words\n",
    "corpus = [sentence for sentence in corpus if sentence.count(\" \") >= 2]\n",
    "\n",
    "# Remove punctuation in text and fit tokenizer on entire corpus\n",
    "tokenizer = Tokenizer(filters='!\"#$%&()*+,-./:;<=>?@[\\]^_`{|}~\\t\\n'+\"'\")\n",
    "tokenizer.fit_on_texts(corpus)\n",
    "\n",
    "# Convert text to sequence of integer values\n",
    "corpus = tokenizer.texts_to_sequences(corpus)\n",
    "n_samples = sum(len(s) for s in corpus) # Total number of words in the corpus\n",
    "V = len(tokenizer.word_index) + 1 # Total number of unique words in the corpus\n",
    "\n",
    "n_samples, V"
   ]
  },
  {
   "cell_type": "code",
   "execution_count": 21,
   "metadata": {},
   "outputs": [],
   "source": [
    "file_name = 'ALICE.txt'\n",
    "corpus_lst = open(file_name).readlines()\n",
    "# Remove sentences with fewer than 3 words\n",
    "corpus_lst = [sentence for sentence in corpus_lst if sentence.count(\" \") >= 2]"
   ]
  },
  {
   "cell_type": "code",
   "execution_count": 6,
   "metadata": {},
   "outputs": [],
   "source": [
    "# Parameters\n",
    "window_size = 2 \n",
    "window_size_corpus = window_size*2\n",
    "\n",
    "# Set numpy seed for reproducible results\n",
    "np.random.seed(42)"
   ]
  },
  {
   "cell_type": "code",
   "execution_count": 7,
   "metadata": {},
   "outputs": [],
   "source": [
    "cbow_model = cbow_model(vocab_size = V, embedding_dim = 100 , window_size = window_size)"
   ]
  },
  {
   "cell_type": "code",
   "execution_count": 8,
   "metadata": {},
   "outputs": [
    {
     "name": "stdout",
     "output_type": "stream",
     "text": [
      "Model: \"sequential\"\n",
      "_________________________________________________________________\n",
      " Layer (type)                Output Shape              Param #   \n",
      "=================================================================\n",
      " embedding (Embedding)       (None, 4, 100)            255700    \n",
      "                                                                 \n",
      " lambda (Lambda)             (None, 100)               0         \n",
      "                                                                 \n",
      " dense (Dense)               (None, 2557)              258257    \n",
      "                                                                 \n",
      "=================================================================\n",
      "Total params: 513,957\n",
      "Trainable params: 513,957\n",
      "Non-trainable params: 0\n",
      "_________________________________________________________________\n"
     ]
    }
   ],
   "source": [
    "cbow_model.summary()"
   ]
  },
  {
   "cell_type": "code",
   "execution_count": 9,
   "metadata": {},
   "outputs": [],
   "source": [
    "from keras.preprocessing import sequence\n",
    "\n",
    "# Prepare the data for the CBOW model\n",
    "def generate_data_cbow(corpus, window_size, V):\n",
    "    all_in = []\n",
    "    all_out = []\n",
    "\n",
    "    # Iterate over all sentences\n",
    "    for sentence in corpus:\n",
    "        L = len(sentence)\n",
    "        for index, word in enumerate(sentence):\n",
    "            start = index - window_size\n",
    "            end = index + window_size + 1\n",
    "\n",
    "            # Empty list which will store the context words\n",
    "            context_words = []\n",
    "            for i in range(start, end):\n",
    "                # Skip the 'same' word\n",
    "                if i != index:\n",
    "                    # Add a word as a context word if it is within the window size\n",
    "                    if 0 <= i < L:\n",
    "                        context_words.append(sentence[i])\n",
    "                    else:\n",
    "                        # Pad with zero if there are no words \n",
    "                        context_words.append(0)\n",
    "            # Append the list with context words\n",
    "            all_in.append(context_words)\n",
    "\n",
    "            # Add one-hot encoding of the target word\n",
    "            all_out.append(to_categorical(word, V))\n",
    "                 \n",
    "    return (np.array(all_in), np.array(all_out))"
   ]
  },
  {
   "cell_type": "code",
   "execution_count": 10,
   "metadata": {},
   "outputs": [
    {
     "data": {
      "text/plain": [
       "((27165, 4), (27165, 2557))"
      ]
     },
     "execution_count": 10,
     "metadata": {},
     "output_type": "execute_result"
    }
   ],
   "source": [
    "# Create the training data\n",
    "X_cbow, y_cbow = generate_data_cbow(corpus, window_size, V)\n",
    "X_cbow.shape, y_cbow.shape"
   ]
  },
  {
   "cell_type": "code",
   "execution_count": 11,
   "metadata": {},
   "outputs": [
    {
     "name": "stdout",
     "output_type": "stream",
     "text": [
      "Epoch 1/50\n",
      "425/425 - 3s - loss: 6.6927 - accuracy: 0.0586 - 3s/epoch - 8ms/step\n",
      "Epoch 2/50\n",
      "425/425 - 3s - loss: 5.9843 - accuracy: 0.0606 - 3s/epoch - 7ms/step\n",
      "Epoch 3/50\n",
      "425/425 - 3s - loss: 5.8220 - accuracy: 0.0685 - 3s/epoch - 7ms/step\n",
      "Epoch 4/50\n",
      "425/425 - 3s - loss: 5.6421 - accuracy: 0.0882 - 3s/epoch - 8ms/step\n",
      "Epoch 5/50\n",
      "425/425 - 3s - loss: 5.4713 - accuracy: 0.1061 - 3s/epoch - 8ms/step\n",
      "Epoch 6/50\n",
      "425/425 - 3s - loss: 5.3041 - accuracy: 0.1266 - 3s/epoch - 7ms/step\n",
      "Epoch 7/50\n",
      "425/425 - 3s - loss: 5.1350 - accuracy: 0.1472 - 3s/epoch - 7ms/step\n",
      "Epoch 8/50\n",
      "425/425 - 3s - loss: 4.9702 - accuracy: 0.1650 - 3s/epoch - 8ms/step\n",
      "Epoch 9/50\n",
      "425/425 - 4s - loss: 4.8141 - accuracy: 0.1785 - 4s/epoch - 9ms/step\n",
      "Epoch 10/50\n",
      "425/425 - 3s - loss: 4.6664 - accuracy: 0.1911 - 3s/epoch - 7ms/step\n",
      "Epoch 11/50\n",
      "425/425 - 4s - loss: 4.5271 - accuracy: 0.2056 - 4s/epoch - 9ms/step\n",
      "Epoch 12/50\n",
      "425/425 - 4s - loss: 4.3947 - accuracy: 0.2175 - 4s/epoch - 10ms/step\n",
      "Epoch 13/50\n",
      "425/425 - 4s - loss: 4.2683 - accuracy: 0.2265 - 4s/epoch - 9ms/step\n",
      "Epoch 14/50\n",
      "425/425 - 3s - loss: 4.1472 - accuracy: 0.2394 - 3s/epoch - 7ms/step\n",
      "Epoch 15/50\n",
      "425/425 - 3s - loss: 4.0308 - accuracy: 0.2515 - 3s/epoch - 6ms/step\n",
      "Epoch 16/50\n",
      "425/425 - 3s - loss: 3.9185 - accuracy: 0.2630 - 3s/epoch - 6ms/step\n",
      "Epoch 17/50\n",
      "425/425 - 3s - loss: 3.8091 - accuracy: 0.2751 - 3s/epoch - 6ms/step\n",
      "Epoch 18/50\n",
      "425/425 - 3s - loss: 3.7029 - accuracy: 0.2884 - 3s/epoch - 6ms/step\n",
      "Epoch 19/50\n",
      "425/425 - 3s - loss: 3.6006 - accuracy: 0.2990 - 3s/epoch - 6ms/step\n",
      "Epoch 20/50\n",
      "425/425 - 3s - loss: 3.5005 - accuracy: 0.3106 - 3s/epoch - 6ms/step\n",
      "Epoch 21/50\n",
      "425/425 - 3s - loss: 3.4035 - accuracy: 0.3239 - 3s/epoch - 6ms/step\n",
      "Epoch 22/50\n",
      "425/425 - 3s - loss: 3.3097 - accuracy: 0.3348 - 3s/epoch - 7ms/step\n",
      "Epoch 23/50\n",
      "425/425 - 3s - loss: 3.2185 - accuracy: 0.3483 - 3s/epoch - 6ms/step\n",
      "Epoch 24/50\n",
      "425/425 - 2s - loss: 3.1299 - accuracy: 0.3599 - 2s/epoch - 6ms/step\n",
      "Epoch 25/50\n",
      "425/425 - 3s - loss: 3.0439 - accuracy: 0.3722 - 3s/epoch - 6ms/step\n",
      "Epoch 26/50\n",
      "425/425 - 3s - loss: 2.9606 - accuracy: 0.3848 - 3s/epoch - 6ms/step\n",
      "Epoch 27/50\n",
      "425/425 - 3s - loss: 2.8796 - accuracy: 0.3980 - 3s/epoch - 7ms/step\n",
      "Epoch 28/50\n",
      "425/425 - 3s - loss: 2.8017 - accuracy: 0.4117 - 3s/epoch - 7ms/step\n",
      "Epoch 29/50\n",
      "425/425 - 3s - loss: 2.7258 - accuracy: 0.4243 - 3s/epoch - 6ms/step\n",
      "Epoch 30/50\n",
      "425/425 - 3s - loss: 2.6536 - accuracy: 0.4380 - 3s/epoch - 6ms/step\n",
      "Epoch 31/50\n",
      "425/425 - 3s - loss: 2.5831 - accuracy: 0.4509 - 3s/epoch - 6ms/step\n",
      "Epoch 32/50\n",
      "425/425 - 3s - loss: 2.5155 - accuracy: 0.4617 - 3s/epoch - 7ms/step\n",
      "Epoch 33/50\n",
      "425/425 - 3s - loss: 2.4500 - accuracy: 0.4738 - 3s/epoch - 7ms/step\n",
      "Epoch 34/50\n",
      "425/425 - 3s - loss: 2.3874 - accuracy: 0.4850 - 3s/epoch - 7ms/step\n",
      "Epoch 35/50\n",
      "425/425 - 3s - loss: 2.3272 - accuracy: 0.4963 - 3s/epoch - 7ms/step\n",
      "Epoch 36/50\n",
      "425/425 - 3s - loss: 2.2687 - accuracy: 0.5070 - 3s/epoch - 7ms/step\n",
      "Epoch 37/50\n",
      "425/425 - 3s - loss: 2.2127 - accuracy: 0.5197 - 3s/epoch - 6ms/step\n",
      "Epoch 38/50\n",
      "425/425 - 3s - loss: 2.1595 - accuracy: 0.5304 - 3s/epoch - 7ms/step\n",
      "Epoch 39/50\n",
      "425/425 - 3s - loss: 2.1079 - accuracy: 0.5382 - 3s/epoch - 6ms/step\n",
      "Epoch 40/50\n",
      "425/425 - 3s - loss: 2.0585 - accuracy: 0.5471 - 3s/epoch - 6ms/step\n",
      "Epoch 41/50\n",
      "425/425 - 3s - loss: 2.0113 - accuracy: 0.5580 - 3s/epoch - 7ms/step\n",
      "Epoch 42/50\n",
      "425/425 - 3s - loss: 1.9658 - accuracy: 0.5658 - 3s/epoch - 7ms/step\n",
      "Epoch 43/50\n",
      "425/425 - 3s - loss: 1.9227 - accuracy: 0.5736 - 3s/epoch - 6ms/step\n",
      "Epoch 44/50\n",
      "425/425 - 3s - loss: 1.8810 - accuracy: 0.5812 - 3s/epoch - 7ms/step\n",
      "Epoch 45/50\n",
      "425/425 - 3s - loss: 1.8408 - accuracy: 0.5894 - 3s/epoch - 7ms/step\n",
      "Epoch 46/50\n",
      "425/425 - 3s - loss: 1.8025 - accuracy: 0.5961 - 3s/epoch - 7ms/step\n",
      "Epoch 47/50\n",
      "425/425 - 3s - loss: 1.7658 - accuracy: 0.6014 - 3s/epoch - 7ms/step\n",
      "Epoch 48/50\n",
      "425/425 - 3s - loss: 1.7307 - accuracy: 0.6096 - 3s/epoch - 7ms/step\n",
      "Epoch 49/50\n",
      "425/425 - 3s - loss: 1.6969 - accuracy: 0.6155 - 3s/epoch - 7ms/step\n",
      "Epoch 50/50\n",
      "425/425 - 3s - loss: 1.6644 - accuracy: 0.6222 - 3s/epoch - 7ms/step\n"
     ]
    }
   ],
   "source": [
    "history = cbow_model.fit(X_cbow, y_cbow, batch_size=64, epochs=50, verbose=2)"
   ]
  },
  {
   "cell_type": "code",
   "execution_count": 12,
   "metadata": {},
   "outputs": [
    {
     "data": {
      "text/plain": [
       "2557"
      ]
     },
     "execution_count": 12,
     "metadata": {},
     "output_type": "execute_result"
    }
   ],
   "source": [
    "V"
   ]
  },
  {
   "cell_type": "code",
   "execution_count": 37,
   "metadata": {},
   "outputs": [],
   "source": [
    "def unique_words(words_list):\n",
    "    unique_words = set()\n",
    "    for word in words_list:\n",
    "        unique_words.add(word)\n",
    "    return list(unique_words)"
   ]
  },
  {
   "cell_type": "code",
   "execution_count": 38,
   "metadata": {},
   "outputs": [],
   "source": [
    "all_words =\" \".join(corpus_lst).split()"
   ]
  },
  {
   "cell_type": "code",
   "execution_count": 43,
   "metadata": {},
   "outputs": [],
   "source": [
    "vocab = unique_words(all_words)"
   ]
  },
  {
   "cell_type": "code",
   "execution_count": null,
   "metadata": {},
   "outputs": [],
   "source": [
    "\n",
    "\n",
    "# Define the vocabulary and the corpus\n",
    "vocabulary = [\"the\", \"cat\", \"sat\", \"on\", \"mat\"]\n",
    "\n",
    "# Create a dictionary mapping words to indices\n",
    "word_index = {word: i for i, word in enumerate(vocabulary)}\n",
    "\n",
    "# Create a dictionary mapping indices to words\n",
    "reverse_word_index = {i: word for word, i in word_index.items()}\n",
    "\n",
    "# Define the window size\n",
    "window_size = 3"
   ]
  },
  {
   "cell_type": "code",
   "execution_count": null,
   "metadata": {},
   "outputs": [],
   "source": [
    "context = [\"the\", \"icelike\", \"crasher\", \"flanch\", \"reaction\", \"frowzily\"]\n",
    "context_indices = [word_index[word] for word in context]\n",
    "x = np.array(context_indices).reshape(1, window_size*2)"
   ]
  },
  {
   "cell_type": "code",
   "execution_count": null,
   "metadata": {},
   "outputs": [],
   "source": [
    "# Use the model to make a prediction\n",
    "prediction = model.predict(x)\n",
    "\n",
    "# Convert the prediction to a word\n",
    "predicted_word = reverse_word_index[np.argmax(prediction)]\n",
    "print(predicted_word)"
   ]
  },
  {
   "cell_type": "code",
   "execution_count": 14,
   "metadata": {},
   "outputs": [],
   "source": [
    "import matplotlib.pyplot as plt"
   ]
  },
  {
   "cell_type": "code",
   "execution_count": 20,
   "metadata": {},
   "outputs": [
    {
     "data": {
      "image/png": "[encoded data removed]",
      "text/plain": [
       "<Figure size 640x480 with 1 Axes>"
      ]
     },
     "metadata": {},
     "output_type": "display_data"
    }
   ],
   "source": [
    "loss_train = history.history['loss']\n",
    "epochs = range(50)\n",
    "plt.plot(epochs, loss_train, 'g', label='Training loss')\n",
    "plt.title('Training and Validation loss')\n",
    "plt.xlabel('Epochs')\n",
    "plt.ylabel('Loss')\n",
    "plt.legend()\n",
    "plt.show()"
   ]
  }
 ],
 "metadata": {
  "kernelspec": {
   "display_name": "Python 3",
   "language": "python",
   "name": "python3"
  },
  "language_info": {
   "codemirror_mode": {
    "name": "ipython",
    "version": 3
   },
   "file_extension": ".py",
   "mimetype": "text/x-python",
   "name": "python",
   "nbconvert_exporter": "python",
   "pygments_lexer": "ipython3",
   "version": "3.10.0"
  },
  "orig_nbformat": 4
 },
 "nbformat": 4,
 "nbformat_minor": 2
}
