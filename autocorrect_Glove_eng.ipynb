{
 "cells": [
  {
   "cell_type": "code",
   "execution_count": null,
   "metadata": {},
   "outputs": [],
   "source": [
    "import numpy as np\n",
    "import nltk\n",
    "from nltk.tokenize import word_tokenize\n",
    "\n",
    "# Load GloVe word embeddings\n",
    "embeddings_index = {}\n",
    "f = open('glove.6B.100d.txt', encoding=\"utf8\") #replace with your file path and name\n",
    "for line in f:\n",
    "    values = line.split()\n",
    "    word = values[0]\n",
    "    coefs = np.asarray(values[1:], dtype='float32')\n",
    "    embeddings_index[word] = coefs\n",
    "f.close()\n",
    "\n",
    "# Define a function for spell checking\n",
    "def spell_check(word):\n",
    "    # Get the closest word based on cosine similarity\n",
    "    closest_word = None\n",
    "    max_cosine_sim = -1\n",
    "    for word_from_corpus in embeddings_index.keys():\n",
    "        if nltk.edit_distance(word, word_from_corpus) < 2: #if edit distance between compared words are less than 2\n",
    "            cosine_sim = np.dot(embeddings_index[word], embeddings_index[word_from_corpus])/(np.linalg.norm(embeddings_index[word])*np.linalg.norm(embeddings_index[word_from_corpus]))\n",
    "            if cosine_sim > max_cosine_sim:\n",
    "                max_cosine_sim = cosine_sim\n",
    "                closest_word = word_from_corpus\n",
    "    return closest_word\n",
    "\n",
    "# Test the spell_check function\n",
    "text = \"Ths is an exmaple of houw to do sunel checkinig usung glve wour embeddings\"\n",
    "tokens = word_tokenize(text.lower())\n",
    "corrected = []\n",
    "for token in tokens:\n",
    "    closest = spell_check(token)\n",
    "    if closest is not None:\n",
    "        corrected.append(closest)\n",
    "    else:\n",
    "        corrected.append(token)\n",
    "print(\" \".join(corrected))"
   ]
  }
 ],
 "metadata": {
  "language_info": {
   "name": "python"
  },
  "orig_nbformat": 4
 },
 "nbformat": 4,
 "nbformat_minor": 2
}
