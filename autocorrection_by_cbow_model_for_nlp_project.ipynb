{
 "cells": [
  {
   "cell_type": "code",
   "execution_count": 1,
   "metadata": {},
   "outputs": [],
   "source": [
    "from helping_function import *"
   ]
  },
  {
   "cell_type": "code",
   "execution_count": 2,
   "metadata": {},
   "outputs": [],
   "source": [
    "words = ['technology', 'Artificial Intelligence', 'Machine Learning', 'Blockchain', 'Internet of Things', 'Cybersecurity', 'Augmented Reality', 'Virtual Reality', 'Cryptocurrency', 'Robotics', 'Quantum Computing','health_fitness', 'Nutrition', 'Exercise', 'Yoga', 'Meditation', 'Mental Health', 'Sleep', 'Weight Loss', 'Cardiovascular Health', 'Strength Training', 'Disease Prevention','education', 'Curriculum', 'Learning Methods', 'Teaching Strategies', 'Student Assessment', 'Classroom Management', 'STEM Education', 'Higher Education', 'Online Learning', 'Homeschooling', 'Special Education','politics', 'Democracy', 'Elections', 'Political Parties', 'International Relations', 'Public Policy', 'Political Economy', 'Human Rights', 'Political Systems', 'Campaigning', 'Diplomacy','travel', 'Adventure Travel', 'Sustainable Tourism', 'Solo Travel', 'Luxury Travel', 'Cultural Tourism', 'Backpacking', 'Road Trips', 'Beach Vacations', 'National Parks', 'Wildlife Tourism','food_cooking', 'Recipes', 'Meal Planning', 'Cooking Techniques', 'Baking', 'International Cuisine', 'Plant-Based Diets', 'Meal Delivery Services', 'Food Photography', 'Wine Pairing', 'Gourmet Foods','sports', 'Football', 'Basketball', 'Baseball', 'Soccer', 'Tennis', 'Golf', 'Athletics', 'Swimming', 'Boxing', 'Extreme Sports','fashion', 'Fashion Design', 'Fashion Trends', 'Fashion Industry', 'Couture', 'Street Style', 'Accessories', 'Fashion Photography', 'Makeup', 'Hair Care', 'Nail Art','arts_entertainment', 'Music', 'Film', 'Television', 'Theater', 'Dance', 'Visual Arts', 'Comedy', 'Literature', 'Museums', 'Art Galleries','science' , 'Biology', 'Physics', 'Chemistry', 'Astronomy', 'Earth Science', 'Environmental Science', 'Neuroscience', 'Genetics', 'Biotechnology', 'Ecology','business_finance', 'Entrepreneurship', 'Small Business', 'Corporate Finance', 'Investments', 'Accounting', 'Marketing', 'Sales', 'Business Management', 'Supply Chain Management', 'Human Resources','environment', 'Climate Change', 'Sustainability', 'Renewable Energy', 'Conservation', 'Green Living', 'Environmental Policy', 'Biodiversity', 'Ocean Conservation', 'Deforestation', 'Air Pollution','philosophy', 'Ethics', 'Logic', 'Metaphysics', 'Epistemology', 'Political Philosophy', 'Aesthetics', 'Feminist Philosophy', 'Ancient Philosophy', 'Continental Philosophy', 'Eastern Philosophy','religion', 'Christianity', 'Islam', 'Judaism', 'Hinduism', 'Buddhism', 'Sikhism', 'Taoism', 'Atheism', 'Agnosticism', 'Religious Studies','history', 'Ancient History', 'World History', 'American History', 'European History', 'Military History', 'Archaeology', 'Art History', 'Cultural History', 'Economic History', 'Intellectual History','social_issues', 'Poverty', 'Homelessness', 'Discrimination', 'Racism', 'Sexism', 'Human Trafficking', 'Immigration', 'Social Justice', 'LGBTQ+ Rights', 'Disability Rights']\n",
    "food_words = ['pizza', 'sushi', 'spaghetti', 'hamburger', 'sandwich', 'taco', 'burrito', 'quesadilla', 'hotdog', 'pancake', 'waffle', 'croissant', 'bagel', 'donut', 'muffin', 'cake', 'cookie', 'brownie', 'icecream', 'chocolate', 'candy', 'caramel', 'popcorn', 'chips', 'frenchfries', 'onionrings', 'chicken', 'beef', 'pork', 'bacon', 'sausage', 'ham', 'salmon', 'tuna', 'shrimp', 'crab', 'lobster', 'clam', 'oyster', 'scallops', 'mussels', 'squid', 'octopus', 'potato', 'rice', 'pasta', 'bread', 'noodles', 'soup', 'stew', 'curry', 'chili', 'stirfry', 'roast', 'grill', 'fry', 'boil', 'bake', 'saute', 'steam', 'poach', 'broil', 'barbecue', 'marinate', 'season', 'sauce', 'ketchup', 'mayonnaise', 'mustard', 'relish', 'vinegar', 'oil', 'butter', 'cheese', 'yogurt', 'milk', 'cream', 'whippedcream', 'sourcream', 'eggs', 'pancetta', 'prosciutto', 'anchovy', 'olives', 'sun-driedtomatoes', 'artichoke', 'avocado', 'pepper', 'chili', 'garlic', 'onion', 'shallots', 'ginger', 'herbs', 'basil', 'rosemary', 'thyme', 'oregano', 'parsley', 'cilantro', 'coriander', 'cumin', 'currypowder', 'turmeric', 'cinnamon', 'nutmeg', 'vanilla', 'sugar', 'honey', 'maplesyrup', 'jam']\n",
    "more_food_words = ['abalone', 'acai', 'acorn', 'adobo', 'aioli', 'aji', 'ajvar', 'alfalfa', 'almond', 'amaranth', 'amaretto', 'anchovy', 'anise', 'antelope', 'apple', 'apricot', 'arborio', 'arctic', 'argula', 'artichoke', 'arugula', 'asparagus', 'aubergine', 'avocado', 'bacon', 'bagel', 'baked', 'balsamic', 'banana', 'barbecue', 'barley', 'basil', 'bass', 'bay', 'bean', 'beef', 'beer', 'beet', 'beluga', 'berry', 'biryani', 'biscuit', 'bison', 'black', 'blackberry', 'blancmange', 'blood', 'blue', 'blueberry', 'boar', 'boiled', 'bok', 'bologna', 'bombay', 'bone', 'bonito', 'borscht', 'bottle', 'bouillabaisse', 'bourbon', 'bovril', 'braised', 'brandy', 'bread', 'breadfruit', 'breakfast', 'brie', 'brisket', 'broccoli', 'broil', 'brownie', 'bruschetta', 'brussels', 'buckwheat', 'buffalo', 'bulgogi', 'bun', 'burrito', 'butter', 'buttermilk', 'cabbage', 'cactus', 'caesar', 'cajeta', 'cake', 'calamari', 'calf', 'calzone', 'camembert', 'campari', 'canape', 'candy', 'cantaloupe', 'capers', 'caramel', 'caraway', 'carne', 'carp', 'carrot', 'cashew', 'casserole', 'cat', 'catfish', 'cauliflower', 'caviar', 'celeriac', 'celery', 'cereal', 'champagne', 'chanterelle', 'cheese', 'cheesecake', 'chef', 'cherry', 'chestnut', 'chicken', 'chickpea', 'chiffon', 'chili', 'chimichurri', 'chipotle', 'chive', 'chocolate', 'chop', 'chowder', 'churros', 'cider', 'cilantro', 'cinnamon', 'citrus', 'clam', 'clotted', 'cocoa', 'coconut', 'cod', 'coffee', 'cognac', 'coleslaw', 'collard', 'condensed', 'cone', 'congee', 'consomme', 'cookie', 'coq', 'coriander', 'corn', 'cornbread', 'corned', 'cosmopolitan', 'cottage', 'cottonseed', 'coulibiac', 'couscous', 'crab', 'crackling', 'cranberry', 'cream', 'creamed', 'creme', 'crisps', 'croissant', 'croutons', 'crudites', 'crumble', 'crumpet', 'crust', 'crystal', 'cucumber', 'cuisine', 'cupcake', 'curd', 'curry', 'custard', 'cutlet', 'daikon', 'daiquiri', 'dandelion']\n",
    "fruits =['apple', 'banana', 'cherry', 'mango', 'pineapple', 'watermelon', 'grapes', 'strawberry', 'kiwi', 'orange', 'peach', 'pear', 'plum', 'raspberry', 'blueberry', 'blackberry', 'grapefruit', 'lemon', 'lime', 'pomegranate']"
   ]
  },
  {
   "cell_type": "code",
   "execution_count": 3,
   "metadata": {},
   "outputs": [
    {
     "name": "stderr",
     "output_type": "stream",
     "text": [
      "Generating word combinations: 100%|██████████| 20/20 [00:02<00:00,  9.57it/s]\n"
     ]
    }
   ],
   "source": [
    "word_list = generate_word_lists(fruits,1000)\n",
    "words_list=word_list"
   ]
  },
  {
   "cell_type": "code",
   "execution_count": 4,
   "metadata": {},
   "outputs": [
    {
     "name": "stderr",
     "output_type": "stream",
     "text": [
      "Generating word pairs: 100%|██████████| 20/20 [00:00<00:00, 19991.92it/s]\n"
     ]
    }
   ],
   "source": [
    "word_pairs = generate_word_pairs(word_list)\n"
   ]
  },
  {
   "cell_type": "code",
   "execution_count": 5,
   "metadata": {},
   "outputs": [
    {
     "data": {
      "text/plain": [
       "(246809, 413952)"
      ]
     },
     "execution_count": 5,
     "metadata": {},
     "output_type": "execute_result"
    }
   ],
   "source": [
    "# Train FastText model on word pairs\n",
    "model = FastText(vector_size=100, window=5, min_count=0, sg=0)\n",
    "model.build_vocab(corpus_iterable=word_pairs)\n",
    "model.train(corpus_iterable=word_pairs, total_examples=len(word_pairs), epochs=24)"
   ]
  },
  {
   "cell_type": "code",
   "execution_count": 21,
   "metadata": {},
   "outputs": [
    {
     "name": "stdout",
     "output_type": "stream",
     "text": [
      "The correct word for 'aplpe' is 'pineapple'.\n"
     ]
    },
    {
     "data": {
      "text/plain": [
       "[('ppenilape', 0.9948646426200867),\n",
       " ('ilpepapen', 0.9948189854621887),\n",
       " ('npeaplpei', 0.9947426319122314),\n",
       " ('ieanpplpe', 0.994599461555481),\n",
       " ('inpapelpe', 0.994546115398407)]"
      ]
     },
     "execution_count": 21,
     "metadata": {},
     "output_type": "execute_result"
    }
   ],
   "source": [
    "predict = \"aplpe\"\n",
    "prediction,similar_words = find_correct_word(predict, words_list , model)\n",
    "similar_words"
   ]
  },
  {
   "cell_type": "code",
   "execution_count": 7,
   "metadata": {},
   "outputs": [],
   "source": [
    "# def correct_the_spelling_mistakes(input_sentence, model):\n",
    "#     word_list = model.wv.key_to_index.keys()\n",
    "#     corrected_sentence = \"\"\n",
    "#     for word in input_sentence.split():\n",
    "#         if word not in word_list:\n",
    "#             prediction,similar_words = find_correct_word(word, words_list , model)\n",
    "#             corrected_sentence += \" \" + prediction\n",
    "#         else:\n",
    "#             corrected_sentence += \" \" + word\n",
    "#     return corrected_sentence.strip()"
   ]
  },
  {
   "cell_type": "code",
   "execution_count": 20,
   "metadata": {},
   "outputs": [
    {
     "name": "stdout",
     "output_type": "stream",
     "text": [
      "The correct word for 'bana' is 'banana'.\n"
     ]
    },
    {
     "data": {
      "text/plain": [
       "'banana aplpe'"
      ]
     },
     "execution_count": 20,
     "metadata": {},
     "output_type": "execute_result"
    }
   ],
   "source": [
    "# correct_the_spelling_mistakes(\"bana aplpe \", model)"
   ]
  },
  {
   "cell_type": "code",
   "execution_count": 14,
   "metadata": {},
   "outputs": [
    {
     "name": "stdout",
     "output_type": "stream",
     "text": [
      "The correct word for 'zaple.' is 'apple'.\n",
      "The correct word for 'onage' is 'orange'.\n"
     ]
    },
    {
     "data": {
      "text/plain": [
       "'i walked in a park and saw a tree of apple but unfortunate i was color blind , it was a tree of orange'"
      ]
     },
     "execution_count": 14,
     "metadata": {},
     "output_type": "execute_result"
    }
   ],
   "source": [
    "correct_sentence(\"i walked in a park and saw a tree of zaple. but unfortunate i was color blind , it was a tree of onage\",model=model,word_list=word_list)"
   ]
  }
 ],
 "metadata": {
  "kernelspec": {
   "display_name": "Python 3",
   "language": "python",
   "name": "python3"
  },
  "language_info": {
   "codemirror_mode": {
    "name": "ipython",
    "version": 3
   },
   "file_extension": ".py",
   "mimetype": "text/x-python",
   "name": "python",
   "nbconvert_exporter": "python",
   "pygments_lexer": "ipython3",
   "version": "3.10.0"
  },
  "orig_nbformat": 4
 },
 "nbformat": 4,
 "nbformat_minor": 2
}
