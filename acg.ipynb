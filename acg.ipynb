{
 "cells": [
  {
   "cell_type": "code",
   "execution_count": 2,
   "metadata": {},
   "outputs": [
    {
     "name": "stdout",
     "output_type": "stream",
     "text": [
      "i have a drea that one day this natio will rise up and live out the rue meaning of its creed .\n"
     ]
    }
   ],
   "source": [
    "import re\n",
    "import numpy as np\n",
    "\n",
    "# Load the GloVe word embeddings into a dictionary\n",
    "glove_embeddings = {}\n",
    "with open('glove.6B.100d.txt', encoding='utf-8') as f:\n",
    "    for line in f:\n",
    "        values = line.split()\n",
    "        word = values[0]\n",
    "        vector = np.array(values[1:], dtype='float32')\n",
    "        glove_embeddings[word] = vector\n",
    "\n",
    "# Function to calculate cosine similarity between two vectors\n",
    "def cosine_similarity(u, v):\n",
    "    return np.dot(u, v) / (np.linalg.norm(u) * np.linalg.norm(v))\n",
    "\n",
    "# Function to find the closest word in the embeddings to a given word\n",
    "def closest_word(word, embeddings):\n",
    "    if word in embeddings:\n",
    "        return word\n",
    "    else:\n",
    "        max_sim = -1\n",
    "        closest = None\n",
    "        for w in embeddings:\n",
    "            sim = cosine_similarity(embeddings[w], embeddings[word])\n",
    "            if sim > max_sim:\n",
    "                max_sim = sim\n",
    "                closest = w\n",
    "        return closest\n",
    "\n",
    "# Function to correct a given sentence\n",
    "def auto_correct(sentence, embeddings):\n",
    "    words = re.findall(r'\\w+|[^\\w\\s]', sentence)\n",
    "    corrected_words = []\n",
    "    for word in words:\n",
    "        if re.match(r'\\w+', word):\n",
    "            closest = closest_word(word, embeddings)\n",
    "            corrected_words.append(closest)\n",
    "        else:\n",
    "            corrected_words.append(word)\n",
    "    return ' '.join(corrected_words)\n",
    "\n",
    "\n"
   ]
  },
  {
   "cell_type": "code",
   "execution_count": null,
   "metadata": {},
   "outputs": [],
   "source": [
    "# Example usage\n",
    "sentence = \"I have a drea that one day this natio will rise up and live out the rue meaning of its creed.\"\n",
    "sentence = sentence.lower()\n",
    "corrected_sentence = auto_correct(sentence, glove_embeddings)\n",
    "print(corrected_sentence)  # \"I have a dream that one day this nation will rise up and live out the true meaning of its creed.\""
   ]
  },
  {
   "cell_type": "code",
   "execution_count": 3,
   "metadata": {},
   "outputs": [
    {
     "name": "stdout",
     "output_type": "stream",
     "text": [
      "The word 'blnd' is spelled incorrectly. Did you mean 'blind'?\n"
     ]
    }
   ],
   "source": [
    "from spellchecker import SpellChecker\n",
    "\n",
    "spell = SpellChecker()\n",
    "\n",
    "# Check if a word is spelled correctly\n",
    "word = \"blnd\"\n",
    "corrected_word = spell.correction(word)\n",
    "\n",
    "if corrected_word != word:\n",
    "    print(f\"The word '{word}' is spelled incorrectly. Did you mean '{corrected_word}'?\")\n",
    "else:\n",
    "    print(f\"The word '{word}' is spelled correctly.\")\n"
   ]
  }
 ],
 "metadata": {
  "kernelspec": {
   "display_name": "Python 3",
   "language": "python",
   "name": "python3"
  },
  "language_info": {
   "codemirror_mode": {
    "name": "ipython",
    "version": 3
   },
   "file_extension": ".py",
   "mimetype": "text/x-python",
   "name": "python",
   "nbconvert_exporter": "python",
   "pygments_lexer": "ipython3",
   "version": "3.10.0"
  },
  "orig_nbformat": 4
 },
 "nbformat": 4,
 "nbformat_minor": 2
}
