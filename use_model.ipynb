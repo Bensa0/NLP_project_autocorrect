{
 "cells": [
  {
   "cell_type": "code",
   "execution_count": 3,
   "metadata": {},
   "outputs": [],
   "source": [
    "import gensim\n",
    "import difflib"
   ]
  },
  {
   "cell_type": "code",
   "execution_count": 4,
   "metadata": {},
   "outputs": [],
   "source": [
    "# Load the CBOW Word2Vec model using Gensim\n",
    "model = gensim.models.Word2Vec.load('word2vec.model')"
   ]
  },
  {
   "cell_type": "code",
   "execution_count": 5,
   "metadata": {},
   "outputs": [],
   "source": [
    "# Define a function that returns the most similar word based on Word2Vec embeddings\n",
    "def find_similar_word_word2vec(word, word_list, model):\n",
    "    try:\n",
    "        # Get the Word2Vec embedding for the input word\n",
    "        word_embedding = model.wv[word]\n",
    "        # Find the most similar word in the word list based on the Word2Vec embeddings\n",
    "        most_similar_word = model.wv.most_similar([word_embedding], topn=3)[0][0]\n",
    "        return most_similar_word\n",
    "    except KeyError:\n",
    "        # Return the input word if it's not in the Word2Vec model\n",
    "        return word"
   ]
  },
  {
   "cell_type": "code",
   "execution_count": 6,
   "metadata": {},
   "outputs": [],
   "source": [
    "# Define a function that returns the most similar word based on similarity scores from difflib\n",
    "def find_similar_word_difflib(word, word_list):\n",
    "    # Calculate similarity scores between input word and words in word list using difflib\n",
    "    similarity_scores = [(w, difflib.SequenceMatcher(None, word, w).ratio()) for w in word_list]\n",
    "    # Sort similarity scores in descending order\n",
    "    similarity_scores.sort(key=lambda x: x[1], reverse=True)\n",
    "    # Return the most similar word\n",
    "    return similarity_scores[0][0]"
   ]
  },
  {
   "cell_type": "code",
   "execution_count": 7,
   "metadata": {},
   "outputs": [],
   "source": [
    "# Define a main function that combines the results from the two functions above\n",
    "def autocorrect_word(word, word_list, model):\n",
    "    # First, try to find a similar word based on Word2Vec embeddings\n",
    "    most_similar_word_word2vec = find_similar_word_word2vec(word, word_list, model)\n",
    "    # If the Word2Vec model doesn't have a similar word, try to find a similar word using difflib\n",
    "    if most_similar_word_word2vec == word:\n",
    "        most_similar_word_difflib = find_similar_word_difflib(word, word_list)\n",
    "        return most_similar_word_difflib\n",
    "    # If the Word2Vec model has a similar word, check if it's also similar according to difflib\n",
    "    else:\n",
    "        similarity_score = difflib.SequenceMatcher(None, word, most_similar_word_word2vec).ratio()\n",
    "        if similarity_score > 0.8:\n",
    "            return most_similar_word_word2vec\n",
    "        else:\n",
    "            most_similar_word_difflib = find_similar_word_difflib(word, word_list)\n",
    "            return most_similar_word_difflib"
   ]
  },
  {
   "cell_type": "code",
   "execution_count": 8,
   "metadata": {},
   "outputs": [
    {
     "name": "stdout",
     "output_type": "stream",
     "text": [
      "pie\n"
     ]
    }
   ],
   "source": [
    "word_list = model.wv.key_to_index.keys()\n",
    "\n",
    "# Autocorrect the word 'alc'\n",
    "input_word = 'ie'\n",
    "corrected_word = autocorrect_word(input_word, word_list, model)\n",
    "print(corrected_word) # Output: 'alice'"
   ]
  },
  {
   "cell_type": "code",
   "execution_count": 9,
   "metadata": {},
   "outputs": [],
   "source": [
    "input_sentence = \"Alice has a ie\""
   ]
  },
  {
   "cell_type": "code",
   "execution_count": 10,
   "metadata": {},
   "outputs": [],
   "source": [
    "def correct_the_spelling_mistakes(input_sentence, model):\n",
    "    word_list = model.wv.key_to_index.keys()\n",
    "    corrected_sentence = \"\"\n",
    "    for word in input_sentence.split():\n",
    "        if word not in word_list:\n",
    "            corrected_word = autocorrect_word(word, word_list, model)\n",
    "            corrected_sentence += \" \" + corrected_word\n",
    "        else:\n",
    "            corrected_sentence += \" \" + word\n",
    "    return corrected_sentence.strip()"
   ]
  },
  {
   "cell_type": "code",
   "execution_count": 11,
   "metadata": {},
   "outputs": [
    {
     "data": {
      "text/plain": [
       "'Alice has a pie'"
      ]
     },
     "execution_count": 11,
     "metadata": {},
     "output_type": "execute_result"
    }
   ],
   "source": [
    "correct_the_spelling_mistakes(input_sentence, model)"
   ]
  }
 ],
 "metadata": {
  "kernelspec": {
   "display_name": "Python 3",
   "language": "python",
   "name": "python3"
  },
  "language_info": {
   "codemirror_mode": {
    "name": "ipython",
    "version": 3
   },
   "file_extension": ".py",
   "mimetype": "text/x-python",
   "name": "python",
   "nbconvert_exporter": "python",
   "pygments_lexer": "ipython3",
   "version": "3.10.0"
  },
  "orig_nbformat": 4
 },
 "nbformat": 4,
 "nbformat_minor": 2
}
