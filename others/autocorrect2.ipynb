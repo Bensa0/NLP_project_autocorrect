{
 "cells": [
  {
   "cell_type": "code",
   "execution_count": 5,
   "metadata": {},
   "outputs": [
    {
     "name": "stderr",
     "output_type": "stream",
     "text": [
      "ERROR: Could not find a version that satisfies the requirement pyaspell (from versions: none)\n",
      "ERROR: No matching distribution found for pyaspell\n"
     ]
    }
   ],
   "source": [
    "!pip install pyaspell"
   ]
  },
  {
   "cell_type": "code",
   "execution_count": 11,
   "metadata": {},
   "outputs": [
    {
     "ename": "ImportError",
     "evalue": "cannot import name 'Mapping' from 'collections' (c:\\Users\\basel\\AppData\\Local\\Programs\\Python\\Python310\\lib\\collections\\__init__.py)",
     "output_type": "error",
     "traceback": [
      "\u001b[1;31m---------------------------------------------------------------------------\u001b[0m",
      "\u001b[1;31mImportError\u001b[0m                               Traceback (most recent call last)",
      "Cell \u001b[1;32mIn[11], line 4\u001b[0m\n\u001b[0;32m      2\u001b[0m \u001b[39mimport\u001b[39;00m \u001b[39mpandas\u001b[39;00m \u001b[39mas\u001b[39;00m \u001b[39mpd\u001b[39;00m\n\u001b[0;32m      3\u001b[0m \u001b[39mimport\u001b[39;00m \u001b[39mpyspelling\u001b[39;00m \u001b[39mas\u001b[39;00m \u001b[39mspell\u001b[39;00m\n\u001b[1;32m----> 4\u001b[0m \u001b[39mfrom\u001b[39;00m \u001b[39mcollections\u001b[39;00m \u001b[39mimport\u001b[39;00m Mapping, defaultdict\n\u001b[0;32m      5\u001b[0m \u001b[39mfrom\u001b[39;00m \u001b[39mgensim\u001b[39;00m\u001b[39m.\u001b[39;00m\u001b[39mmodels\u001b[39;00m \u001b[39mimport\u001b[39;00m Word2Vec\n\u001b[0;32m      7\u001b[0m \u001b[39m# Load Word2Vec model and spell checker\u001b[39;00m\n",
      "\u001b[1;31mImportError\u001b[0m: cannot import name 'Mapping' from 'collections' (c:\\Users\\basel\\AppData\\Local\\Programs\\Python\\Python310\\lib\\collections\\__init__.py)"
     ]
    }
   ],
   "source": [
    "import numpy as np\n",
    "import pandas as pd\n",
    "import pyspelling as spell\n",
    "from collections import Mapping, defaultdict\n",
    "from gensim.models import Word2Vec\n",
    "\n",
    "# Load Word2Vec model and spell checker\n",
    "model = Word2Vec.load('path/to/word2vec.model')\n",
    "sp = spell.SpellChecker(distance='jaro', embedded=True)\n",
    "\n",
    "# Define function to fetch top 5 suggestions\n",
    "def suggest(word):\n",
    "    try:\n",
    "        suggestions = sp.suggest(word, topn=5)\n",
    "        return [suggestion[0] for suggestion in suggestions]\n",
    "    except:\n",
    "        return []\n",
    "\n",
    "# Define function to check spelling of a sentence\n",
    "def check_spelling(text):\n",
    "    words = text.split()\n",
    "    misspelled_words = []\n",
    "    for word in words:\n",
    "        if not sp.check_word(word):\n",
    "            misspelled_words.append(word)\n",
    "    suggestions = [suggest(word) for word in misspelled_words]\n",
    "    return list(zip(misspelled_words, suggestions))\n",
    "\n",
    "# Example usage\n",
    "text = \"Thiss senttence hass to manyy misseplelllings.\"\n",
    "results = check_spelling(text)\n",
    "print(results)"
   ]
  }
 ],
 "metadata": {
  "kernelspec": {
   "display_name": "Python 3",
   "language": "python",
   "name": "python3"
  },
  "language_info": {
   "codemirror_mode": {
    "name": "ipython",
    "version": 3
   },
   "file_extension": ".py",
   "mimetype": "text/x-python",
   "name": "python",
   "nbconvert_exporter": "python",
   "pygments_lexer": "ipython3",
   "version": "3.10.0"
  },
  "orig_nbformat": 4
 },
 "nbformat": 4,
 "nbformat_minor": 2
}
