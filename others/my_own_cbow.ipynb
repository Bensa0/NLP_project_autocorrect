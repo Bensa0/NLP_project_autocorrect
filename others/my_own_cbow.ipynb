{
 "cells": [
  {
   "cell_type": "code",
   "execution_count": 2,
   "metadata": {},
   "outputs": [
    {
     "name": "stdout",
     "output_type": "stream",
     "text": [
      "Model: \"model_1\"\n",
      "__________________________________________________________________________________________________\n",
      " Layer (type)                   Output Shape         Param #     Connected to                     \n",
      "==================================================================================================\n",
      " input_3 (InputLayer)           [(None, 1)]          0           []                               \n",
      "                                                                                                  \n",
      " input_4 (InputLayer)           [(None, 1)]          0           []                               \n",
      "                                                                                                  \n",
      " embedding (Embedding)          (None, 1, 100)       1500        ['input_3[0][0]',                \n",
      "                                                                  'input_4[0][0]']                \n",
      "                                                                                                  \n",
      " reshape_3 (Reshape)            (None, 100, 1)       0           ['embedding[0][0]']              \n",
      "                                                                                                  \n",
      " reshape_4 (Reshape)            (None, 100, 1)       0           ['embedding[1][0]']              \n",
      "                                                                                                  \n",
      " dot_1 (Dot)                    (None, 1, 1)         0           ['reshape_3[0][0]',              \n",
      "                                                                  'reshape_4[0][0]']              \n",
      "                                                                                                  \n",
      " reshape_5 (Reshape)            (None, 1)            0           ['dot_1[0][0]']                  \n",
      "                                                                                                  \n",
      " dense_1 (Dense)                (None, 1)            2           ['reshape_5[0][0]']              \n",
      "                                                                                                  \n",
      "==================================================================================================\n",
      "Total params: 1,502\n",
      "Trainable params: 1,502\n",
      "Non-trainable params: 0\n",
      "__________________________________________________________________________________________________\n",
      "None\n"
     ]
    },
    {
     "ename": "TypeError",
     "evalue": "list indices must be integers or slices, not tuple",
     "output_type": "error",
     "traceback": [
      "\u001b[1;31m---------------------------------------------------------------------------\u001b[0m",
      "\u001b[1;31mTypeError\u001b[0m                                 Traceback (most recent call last)",
      "Cell \u001b[1;32mIn[2], line 54\u001b[0m\n\u001b[0;32m     52\u001b[0m \u001b[39m# Train the model on the training data\u001b[39;00m\n\u001b[0;32m     53\u001b[0m \u001b[39mfor\u001b[39;00m i \u001b[39min\u001b[39;00m \u001b[39mrange\u001b[39m(\u001b[39m100\u001b[39m):\n\u001b[1;32m---> 54\u001b[0m     X \u001b[39m=\u001b[39m np\u001b[39m.\u001b[39marray([couples[:, \u001b[39m0\u001b[39;49m], couples[:, \u001b[39m1\u001b[39m]])\n\u001b[0;32m     55\u001b[0m     Y \u001b[39m=\u001b[39m np\u001b[39m.\u001b[39marray(labels)\n",
      "\u001b[1;31mTypeError\u001b[0m: list indices must be integers or slices, not tuple"
     ]
    }
   ],
   "source": [
    "import numpy as np\n",
    "from tensorflow.keras.layers import Input, Embedding, Reshape, Dot, Dense\n",
    "from tensorflow.keras.models import Model\n",
    "from tensorflow.keras.preprocessing.sequence import skipgrams\n",
    "from tensorflow.keras.preprocessing import text\n",
    "\n",
    "# Define the corpus\n",
    "corpus = ['the quick brown fox jumped over the lazy dog',\n",
    "             'the lazy dog slept in the sun',\n",
    "             'the quick brown fox ate the lazy dog\\'s bone']\n",
    "\n",
    "# Tokenize the corpus\n",
    "tokenizer = text.Tokenizer()\n",
    "tokenizer.fit_on_texts(corpus)\n",
    "\n",
    "# Get the size of the vocabulary\n",
    "vocab_size = len(tokenizer.word_index) + 1\n",
    "\n",
    "# Define the window size\n",
    "window_size = 2\n",
    "\n",
    "# Define the input layers\n",
    "input_target = Input((1,))\n",
    "input_context = Input((1,))\n",
    "\n",
    "# Define the embedding layer\n",
    "embedding = Embedding(vocab_size, 100, input_length=1, name='embedding')\n",
    "\n",
    "# Define the reshaping layers\n",
    "reshape_target = Reshape((100, 1))(embedding(input_target))\n",
    "reshape_context = Reshape((100, 1))(embedding(input_context))\n",
    "\n",
    "# Define the dot product layer\n",
    "dot_product = Dot(axes=1)([reshape_target, reshape_context])\n",
    "\n",
    "# Define the reshape and dense layers\n",
    "reshape = Reshape((1,))(dot_product)\n",
    "output = Dense(1, activation='sigmoid')(reshape)\n",
    "\n",
    "# Define the model\n",
    "model = Model(inputs=[input_target, input_context], outputs=output)\n",
    "\n",
    "# Compile the model\n",
    "model.compile(loss='binary_crossentropy', optimizer='adam')\n",
    "\n",
    "# Print the model summary\n",
    "print(model.summary())\n",
    "\n",
    "# Generate training data for the model\n",
    "couples, labels = skipgrams(list(tokenizer.word_docs.keys()), vocab_size, window_size=window_size, negative_samples=5)\n",
    "\n",
    "# Train the model on the training data\n",
    "for i in range(100):\n",
    "    X = np.array([couples[:, 0], couples[:, 1]])\n",
    "    Y = np.array(labels)\n",
    "\n"
   ]
  }
 ],
 "metadata": {
  "kernelspec": {
   "display_name": "Python 3",
   "language": "python",
   "name": "python3"
  },
  "language_info": {
   "codemirror_mode": {
    "name": "ipython",
    "version": 3
   },
   "file_extension": ".py",
   "mimetype": "text/x-python",
   "name": "python",
   "nbconvert_exporter": "python",
   "pygments_lexer": "ipython3",
   "version": "3.10.0"
  },
  "orig_nbformat": 4
 },
 "nbformat": 4,
 "nbformat_minor": 2
}
