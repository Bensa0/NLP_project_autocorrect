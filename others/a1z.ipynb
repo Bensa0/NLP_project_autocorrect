{
 "cells": [
  {
   "cell_type": "code",
   "execution_count": 1,
   "metadata": {},
   "outputs": [
    {
     "name": "stdout",
     "output_type": "stream",
     "text": [
      "Possible corrections for 'teh': Sorry, the word 'teh' is not in the vocabulary.\n"
     ]
    }
   ],
   "source": [
    "import gensim\n",
    "import numpy as np\n",
    "\n",
    "# Load the CBOW Word2Vec model using Gensim\n",
    "model = gensim.models.Word2Vec.load('word2vec.model')\n",
    "\n",
    "# Define a function to suggest corrections for a misspelled word\n",
    "def suggest_corrections(misspelled_word):\n",
    "    # Compute the embedding of the misspelled word\n",
    "    try:\n",
    "        misspelled_word_embedding = model.wv[misspelled_word]\n",
    "    except KeyError:\n",
    "        return \"Sorry, the word '{}' is not in the vocabulary.\".format(misspelled_word)\n",
    "\n",
    "    # Compute the similarity between the misspelled word embedding and all other word embeddings\n",
    "    similarity_scores = np.dot(model.wv.vectors, misspelled_word_embedding)\n",
    "\n",
    "    # Find the words with the highest similarity scores\n",
    "    most_similar_word_indices = np.argsort(similarity_scores)[::-1][:10]\n",
    "    most_similar_words = [model.wv.index2word[idx] for idx in most_similar_word_indices]\n",
    "\n",
    "    # Remove the misspelled word from the list of suggestions (if present)\n",
    "    most_similar_words = [word for word in most_similar_words if word != misspelled_word]\n",
    "\n",
    "    # Return the list of suggested corrections\n",
    "    return most_similar_words\n",
    "\n",
    "# Test the function with a sample misspelled word\n",
    "misspelled_word = \"teh\"\n",
    "suggested_corrections = suggest_corrections(misspelled_word)\n",
    "print(\"Possible corrections for '{}': {}\".format(misspelled_word, suggested_corrections))\n"
   ]
  }
 ],
 "metadata": {
  "kernelspec": {
   "display_name": "Python 3",
   "language": "python",
   "name": "python3"
  },
  "language_info": {
   "codemirror_mode": {
    "name": "ipython",
    "version": 3
   },
   "file_extension": ".py",
   "mimetype": "text/x-python",
   "name": "python",
   "nbconvert_exporter": "python",
   "pygments_lexer": "ipython3",
   "version": "3.10.0"
  },
  "orig_nbformat": 4
 },
 "nbformat": 4,
 "nbformat_minor": 2
}
