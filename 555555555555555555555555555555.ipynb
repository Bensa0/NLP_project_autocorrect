{
 "cells": [
  {
   "cell_type": "code",
   "execution_count": 1,
   "metadata": {},
   "outputs": [],
   "source": [
    "import gensim\n",
    "\n",
    "# Load pre-trained Word2Vec model.\n",
    "model_path = 'word2vec.model'\n",
    "model = gensim.models.Word2Vec.load(model_path)"
   ]
  },
  {
   "cell_type": "code",
   "execution_count": 5,
   "metadata": {},
   "outputs": [],
   "source": [
    "vector = model.wv['nothing']"
   ]
  },
  {
   "cell_type": "code",
   "execution_count": 6,
   "metadata": {},
   "outputs": [
    {
     "name": "stdout",
     "output_type": "stream",
     "text": [
      "[('nothing', 0.9999999403953552), ('calmly', 0.4815042018890381), ('no', 0.4803059995174408), ('doanything', 0.4499460458755493), ('none', 0.44889116287231445)]\n"
     ]
    }
   ],
   "source": [
    "# Find the closest words to the given vector\n",
    "def find_closest_words(vector, n=5):\n",
    "    return model.wv.similar_by_vector(vector, topn=n)\n",
    "\n",
    "# Get the closest words to the 'alice' vector\n",
    "closest_words = find_closest_words(vector)\n",
    "print(closest_words)"
   ]
  },
  {
   "cell_type": "code",
   "execution_count": 23,
   "metadata": {},
   "outputs": [
    {
     "name": "stdout",
     "output_type": "stream",
     "text": [
      "['alice', 'lic', 'malice', 'lice', 'slice']\n"
     ]
    }
   ],
   "source": [
    "import difflib\n",
    "\n",
    "word_list = ['alice','lic', 'lice', 'ice', 'malice', 'slice', 'bicycle', 'reptile']\n",
    "\n",
    "def find_similar_words(word, word_list, n=5):\n",
    "    similarity_scores = [(w, difflib.SequenceMatcher(None, word, w).ratio()) for w in word_list]\n",
    "    similarity_scores.sort(key=lambda x: x[1], reverse=True)\n",
    "    return [w[0] for w in similarity_scores[:n]]\n",
    "\n",
    "input_word = 'alc'\n",
    "similar_words = find_similar_words(input_word, word_list)\n",
    "print(similar_words)\n"
   ]
  },
  {
   "cell_type": "code",
   "execution_count": 2,
   "metadata": {},
   "outputs": [
    {
     "name": "stdout",
     "output_type": "stream",
     "text": [
      "[('ycl', 0.21617253124713898), ('bic', 0.09310110658407211), ('rep', 0.09289432317018509), ('icy', 0.07958736270666122), ('cyc', 0.06282659620046616)]\n"
     ]
    }
   ],
   "source": [
    "from gensim.models import Word2Vec\n",
    "\n",
    "# Create character n-grams from a list of words\n",
    "def create_ngrams(word_list, n=3):\n",
    "    ngrams = []\n",
    "    for word in word_list:\n",
    "        for i in range(len(word) - n + 1):\n",
    "            ngrams.append(word[i:i+n])\n",
    "    return ngrams\n",
    "\n",
    "word_list = ['alice', 'malice', 'slice', 'bicycle', 'reptile']\n",
    "ngrams = create_ngrams(word_list)\n",
    "\n",
    "# Train a Word2Vec model with character n-grams\n",
    "model = Word2Vec(sentences=[ngrams], min_count=1, sg=0, vector_size=100, window=2)\n",
    "\n",
    "# Find similar n-grams to the input n-gram\n",
    "def find_similar_ngrams(ngram, n=5):\n",
    "    return model.wv.similar_by_word(ngram, topn=n)\n",
    "\n",
    "input_ngram = 'ice'\n",
    "similar_ngrams = find_similar_ngrams(input_ngram)\n",
    "print(similar_ngrams)\n"
   ]
  },
  {
   "cell_type": "code",
   "execution_count": 4,
   "metadata": {},
   "outputs": [
    {
     "name": "stdout",
     "output_type": "stream",
     "text": [
      "['alice', 'slice', 'malice', 'bic', 'icy']\n"
     ]
    }
   ],
   "source": [
    "import difflib\n",
    "from gensim.models import Word2Vec\n",
    "\n",
    "def find_similar_words(word, word_list, n=5):\n",
    "    similarity_scores = [(w, difflib.SequenceMatcher(None, word, w).ratio()) for w in word_list]\n",
    "    similarity_scores.sort(key=lambda x: x[1], reverse=True)\n",
    "    return [w[0] for w in similarity_scores[:n]]\n",
    "\n",
    "def find_closest_word_from_ngrams(input_ngram, word_list, model, n=5):\n",
    "    similar_ngrams = find_similar_ngrams(input_ngram, n)\n",
    "    similar_ngrams = [ngram for ngram, score in similar_ngrams]\n",
    "    similar_words = find_similar_words(input_ngram, word_list + similar_ngrams)\n",
    "    return similar_words\n",
    "\n",
    "word_list = ['alice', 'malice', 'slice', 'bicycle', 'reptile']\n",
    "ngrams = create_ngrams(word_list)\n",
    "\n",
    "\n",
    "input_ngram = 'ice'\n",
    "similar_words = find_closest_word_from_ngrams(input_ngram, word_list, model)\n",
    "print(similar_words)\n"
   ]
  },
  {
   "cell_type": "code",
   "execution_count": 7,
   "metadata": {},
   "outputs": [],
   "source": [
    "import gensim\n",
    "import difflib\n",
    "\n",
    "# Load the CBOW Word2Vec model using Gensim\n",
    "model = gensim.models.Word2Vec.load('word2vec.model')\n",
    "\n",
    "# Define a function that returns the most similar word based on Word2Vec embeddings\n",
    "def find_similar_word_word2vec(word, word_list, model):\n",
    "    try:\n",
    "        # Get the Word2Vec embedding for the input word\n",
    "        word_embedding = model.wv[word]\n",
    "        # Find the most similar word in the word list based on the Word2Vec embeddings\n",
    "        most_similar_word = model.wv.most_similar([word_embedding], topn=1)[0][0]\n",
    "        return most_similar_word\n",
    "    except KeyError:\n",
    "        # Return the input word if it's not in the Word2Vec model\n",
    "        return word\n",
    "\n",
    "# Define a function that returns the most similar word based on similarity scores from difflib\n",
    "def find_similar_word_difflib(word, word_list):\n",
    "    # Calculate similarity scores between input word and words in word list using difflib\n",
    "    similarity_scores = [(w, difflib.SequenceMatcher(None, word, w).ratio()) for w in word_list]\n",
    "    # Sort similarity scores in descending order\n",
    "    similarity_scores.sort(key=lambda x: x[1], reverse=True)\n",
    "    # Return the most similar word\n",
    "    return similarity_scores[0][0]\n",
    "\n",
    "# Define a main function that combines the results from the two functions above\n",
    "def autocorrect_word(word, word_list, model):\n",
    "    # First, try to find a similar word based on Word2Vec embeddings\n",
    "    most_similar_word_word2vec = find_similar_word_word2vec(word, word_list, model)\n",
    "    # If the Word2Vec model doesn't have a similar word, try to find a similar word using difflib\n",
    "    if most_similar_word_word2vec == word:\n",
    "        most_similar_word_difflib = find_similar_word_difflib(word, word_list)\n",
    "        return most_similar_word_difflib\n",
    "    # If the Word2Vec model has a similar word, check if it's also similar according to difflib\n",
    "    else:\n",
    "        similarity_score = difflib.SequenceMatcher(None, word, most_similar_word_word2vec).ratio()\n",
    "        if similarity_score > 0.8:\n",
    "            return most_similar_word_word2vec\n",
    "        else:\n",
    "            most_similar_word_difflib = find_similar_word_difflib(word, word_list)\n",
    "            return most_similar_word_difflib\n"
   ]
  },
  {
   "cell_type": "code",
   "execution_count": 8,
   "metadata": {},
   "outputs": [
    {
     "name": "stdout",
     "output_type": "stream",
     "text": [
      "alice\n"
     ]
    }
   ],
   "source": [
    "word_list = ['alice', 'malice', 'slice', 'bicycle', 'reptile']\n",
    "\n",
    "# Autocorrect the word 'alc'\n",
    "input_word = 'alc'\n",
    "corrected_word = autocorrect_word(input_word, word_list, model)\n",
    "print(corrected_word) # Output: 'alice'\n"
   ]
  }
 ],
 "metadata": {
  "kernelspec": {
   "display_name": "Python 3",
   "language": "python",
   "name": "python3"
  },
  "language_info": {
   "codemirror_mode": {
    "name": "ipython",
    "version": 3
   },
   "file_extension": ".py",
   "mimetype": "text/x-python",
   "name": "python",
   "nbconvert_exporter": "python",
   "pygments_lexer": "ipython3",
   "version": "3.10.0"
  },
  "orig_nbformat": 4
 },
 "nbformat": 4,
 "nbformat_minor": 2
}
