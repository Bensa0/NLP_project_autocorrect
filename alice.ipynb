{
 "cells": [
  {
   "cell_type": "code",
   "execution_count": 1,
   "metadata": {},
   "outputs": [],
   "source": [
    "import re\n",
    "from helping_function import *\n",
    "\n",
    "def clean_text(text):\n",
    "    # Convert text to lowercase\n",
    "    text = text.lower()\n",
    "\n",
    "    # Remove special characters and numbers\n",
    "    text = re.sub('[^a-zA-Z. ]', ' ', text)\n",
    "\n",
    "    # Remove extra whitespace\n",
    "    text = re.sub('\\s+', ' ', text).strip()\n",
    "\n",
    "    return text\n",
    "\n",
    "import string\n",
    "filename = 'others/ALICE.txt'\n",
    "file = open(filename, 'rt')\n",
    "text = file.readlines()\n",
    "file.close()\n",
    "sentences = [[clean_text(sentence)] for sentence in text if clean_text(sentence)]\n"
   ]
  },
  {
   "cell_type": "code",
   "execution_count": 2,
   "metadata": {},
   "outputs": [],
   "source": [
    "sentences = [[clean_text(sentence)] for sentence in text if clean_text(sentence)]\n",
    "words = [nltk.word_tokenize(sentence[0]) for sentence in sentences]"
   ]
  },
  {
   "cell_type": "code",
   "execution_count": 3,
   "metadata": {},
   "outputs": [
    {
     "name": "stderr",
     "output_type": "stream",
     "text": [
      "100%|██████████| 2469/2469 [01:44<00:00, 23.68it/s] \n"
     ]
    }
   ],
   "source": [
    "word_list=[]\n",
    "for list_group in tqdm(words):\n",
    "    for word in list_group:\n",
    "        x = generate_combinations(word,10)\n",
    "        x = [word] + x\n",
    "        word_list.append(x)"
   ]
  },
  {
   "cell_type": "code",
   "execution_count": 4,
   "metadata": {},
   "outputs": [
    {
     "name": "stderr",
     "output_type": "stream",
     "text": [
      "Generating word pairs: 100%|██████████| 28317/28317 [00:00<00:00, 203472.07it/s]\n"
     ]
    }
   ],
   "source": [
    "word_pair = generate_word_pairs(word_list)"
   ]
  },
  {
   "cell_type": "code",
   "execution_count": 5,
   "metadata": {},
   "outputs": [
    {
     "data": {
      "text/plain": [
       "(7510673, 7931184)"
      ]
     },
     "execution_count": 5,
     "metadata": {},
     "output_type": "execute_result"
    }
   ],
   "source": [
    "n = FastText(vector_size=100, window=5, min_count=0, sg=0)\n",
    "n.build_vocab(corpus_iterable=word_pair)\n",
    "n.train(corpus_iterable=word_pair, total_examples=len(word_pair), epochs=24)\n"
   ]
  },
  {
   "cell_type": "code",
   "execution_count": 6,
   "metadata": {},
   "outputs": [
    {
     "name": "stdout",
     "output_type": "stream",
     "text": [
      "The correct word for 'licae' is 'alice'.\n"
     ]
    },
    {
     "data": {
      "text/plain": [
       "[('liaec', 0.9757906198501587),\n",
       " ('eacil', 0.9744487404823303),\n",
       " ('eacli', 0.9735206961631775),\n",
       " ('aecil', 0.9732444882392883),\n",
       " ('cilea', 0.9718964695930481)]"
      ]
     },
     "execution_count": 6,
     "metadata": {},
     "output_type": "execute_result"
    }
   ],
   "source": [
    "predict = \"licae\"\n",
    "prediction,similar_words = find_correct_word(predict, word_pair , n,5)\n",
    "similar_words"
   ]
  },
  {
   "cell_type": "code",
   "execution_count": 11,
   "metadata": {},
   "outputs": [],
   "source": [
    "word_list=z"
   ]
  },
  {
   "cell_type": "code",
   "execution_count": 18,
   "metadata": {},
   "outputs": [
    {
     "name": "stdout",
     "output_type": "stream",
     "text": [
      "The correct word for 'alcie' is 'alice'.\n",
      "The correct word for 'wonde' is 'wonder'.\n"
     ]
    },
    {
     "data": {
      "text/plain": [
       "'i read an amazing book of alice in wonder land'"
      ]
     },
     "execution_count": 18,
     "metadata": {},
     "output_type": "execute_result"
    }
   ],
   "source": [
    "correct_sentence(\"i read an amazing book of alcie in wonde land\",model=n,word_list=word_list)"
   ]
  }
 ],
 "metadata": {
  "kernelspec": {
   "display_name": "Python 3",
   "language": "python",
   "name": "python3"
  },
  "language_info": {
   "codemirror_mode": {
    "name": "ipython",
    "version": 3
   },
   "file_extension": ".py",
   "mimetype": "text/x-python",
   "name": "python",
   "nbconvert_exporter": "python",
   "pygments_lexer": "ipython3",
   "version": "3.10.0"
  },
  "orig_nbformat": 4
 },
 "nbformat": 4,
 "nbformat_minor": 2
}
