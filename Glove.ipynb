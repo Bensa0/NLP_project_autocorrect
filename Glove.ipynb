{
 "cells": [
  {
   "cell_type": "code",
   "execution_count": 3,
   "metadata": {},
   "outputs": [
    {
     "name": "stdout",
     "output_type": "stream",
     "text": [
      "[['hiss', 'chiss', 'his'], 'is', 'a', ['test', 'tests', 'testy'], 'to', ['see', 'seen', 'seek'], 'if', 'the', ['autocorrelation', 'anti-corruption', 'error-correction'], ['works', 'workes', 'work'], '.']\n"
     ]
    }
   ],
   "source": [
    "import numpy as np\n",
    "import nltk\n",
    "\n",
    "# Load pre-trained GloVe embeddings\n",
    "word_embeddings = {}\n",
    "with open('glove.6B.100d.txt', encoding=\"utf8\") as f:\n",
    "    for line in f:\n",
    "        values = line.split()\n",
    "        word = values[0]\n",
    "        vector = np.asarray(values[1:], dtype='float32')\n",
    "        word_embeddings[word] = vector\n",
    "\n",
    "# Define a function to identify and correct spelling errors\n",
    "def autocorrect(text):\n",
    "    words = nltk.word_tokenize(text)\n",
    "    corrected_words = []\n",
    "    for word in words:\n",
    "        if word.lower() in word_embeddings:\n",
    "            corrected_words.append(word)\n",
    "        else:\n",
    "            # Find the most similar word in the embeddings\n",
    "            similar_words = sorted(word_embeddings.keys(), key=lambda w: nltk.edit_distance(word, w))\n",
    "            corrected_words.append(similar_words[:3])\n",
    "    return corrected_words\n",
    "\n",
    "# Test the function\n",
    "text = \"Thiss is a testt to seee if the auto-correctionn workks.\"\n",
    "corrected_text = autocorrect(text)\n",
    "print(corrected_text)"
   ]
  },
  {
   "cell_type": "code",
   "execution_count": null,
   "metadata": {},
   "outputs": [],
   "source": []
  }
 ],
 "metadata": {
  "kernelspec": {
   "display_name": "Python 3",
   "language": "python",
   "name": "python3"
  },
  "language_info": {
   "codemirror_mode": {
    "name": "ipython",
    "version": 3
   },
   "file_extension": ".py",
   "mimetype": "text/x-python",
   "name": "python",
   "nbconvert_exporter": "python",
   "pygments_lexer": "ipython3",
   "version": "3.10.5"
  },
  "orig_nbformat": 4
 },
 "nbformat": 4,
 "nbformat_minor": 2
}
