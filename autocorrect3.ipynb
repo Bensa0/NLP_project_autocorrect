{
 "cells": [
  {
   "cell_type": "code",
   "execution_count": 5,
   "metadata": {},
   "outputs": [
    {
     "ename": "ImportError",
     "evalue": "cannot import name 'remove_stopword_tokens' from 'gensim.parsing.preprocessing' (c:\\Users\\basel\\AppData\\Local\\Programs\\Python\\Python310\\lib\\site-packages\\gensim\\parsing\\preprocessing.py)",
     "output_type": "error",
     "traceback": [
      "\u001b[1;31m---------------------------------------------------------------------------\u001b[0m",
      "\u001b[1;31mImportError\u001b[0m                               Traceback (most recent call last)",
      "Cell \u001b[1;32mIn[5], line 3\u001b[0m\n\u001b[0;32m      1\u001b[0m \u001b[39mimport\u001b[39;00m \u001b[39mnumpy\u001b[39;00m \u001b[39mas\u001b[39;00m \u001b[39mnp\u001b[39;00m\n\u001b[0;32m      2\u001b[0m \u001b[39mimport\u001b[39;00m \u001b[39menchant\u001b[39;00m\n\u001b[1;32m----> 3\u001b[0m \u001b[39mfrom\u001b[39;00m \u001b[39mgensim\u001b[39;00m\u001b[39m.\u001b[39;00m\u001b[39mmodels\u001b[39;00m \u001b[39mimport\u001b[39;00m KeyedVectors\n\u001b[0;32m      5\u001b[0m \u001b[39m# Load the pre-trained GloVe word embeddings\u001b[39;00m\n\u001b[0;32m      6\u001b[0m glove_model \u001b[39m=\u001b[39m KeyedVectors\u001b[39m.\u001b[39mload_word2vec_format(\u001b[39m'\u001b[39m\u001b[39mD:\u001b[39m\u001b[39m\\\\\u001b[39;00m\u001b[39mglove.6B.100d.txt\u001b[39m\u001b[39m'\u001b[39m, binary\u001b[39m=\u001b[39m\u001b[39mFalse\u001b[39;00m, encoding\u001b[39m=\u001b[39m\u001b[39m'\u001b[39m\u001b[39mutf-8\u001b[39m\u001b[39m'\u001b[39m)\n",
      "File \u001b[1;32mc:\\Users\\basel\\AppData\\Local\\Programs\\Python\\Python310\\lib\\site-packages\\gensim\\__init__.py:11\u001b[0m\n\u001b[0;32m      7\u001b[0m __version__ \u001b[39m=\u001b[39m \u001b[39m'\u001b[39m\u001b[39m4.3.0\u001b[39m\u001b[39m'\u001b[39m\n\u001b[0;32m      9\u001b[0m \u001b[39mimport\u001b[39;00m \u001b[39mlogging\u001b[39;00m\n\u001b[1;32m---> 11\u001b[0m \u001b[39mfrom\u001b[39;00m \u001b[39mgensim\u001b[39;00m \u001b[39mimport\u001b[39;00m parsing, corpora, matutils, interfaces, models, similarities, utils  \u001b[39m# noqa:F401\u001b[39;00m\n\u001b[0;32m     14\u001b[0m logger \u001b[39m=\u001b[39m logging\u001b[39m.\u001b[39mgetLogger(\u001b[39m'\u001b[39m\u001b[39mgensim\u001b[39m\u001b[39m'\u001b[39m)\n\u001b[0;32m     15\u001b[0m \u001b[39mif\u001b[39;00m \u001b[39mnot\u001b[39;00m logger\u001b[39m.\u001b[39mhandlers:  \u001b[39m# To ensure reload() doesn't add another one\u001b[39;00m\n",
      "File \u001b[1;32mc:\\Users\\basel\\AppData\\Local\\Programs\\Python\\Python310\\lib\\site-packages\\gensim\\corpora\\__init__.py:14\u001b[0m\n\u001b[0;32m     12\u001b[0m \u001b[39mfrom\u001b[39;00m \u001b[39m.\u001b[39;00m\u001b[39mdictionary\u001b[39;00m \u001b[39mimport\u001b[39;00m Dictionary  \u001b[39m# noqa:F401\u001b[39;00m\n\u001b[0;32m     13\u001b[0m \u001b[39mfrom\u001b[39;00m \u001b[39m.\u001b[39;00m\u001b[39mhashdictionary\u001b[39;00m \u001b[39mimport\u001b[39;00m HashDictionary  \u001b[39m# noqa:F401\u001b[39;00m\n\u001b[1;32m---> 14\u001b[0m \u001b[39mfrom\u001b[39;00m \u001b[39m.\u001b[39;00m\u001b[39mwikicorpus\u001b[39;00m \u001b[39mimport\u001b[39;00m WikiCorpus  \u001b[39m# noqa:F401\u001b[39;00m\n\u001b[0;32m     15\u001b[0m \u001b[39mfrom\u001b[39;00m \u001b[39m.\u001b[39;00m\u001b[39mtextcorpus\u001b[39;00m \u001b[39mimport\u001b[39;00m TextCorpus, TextDirectoryCorpus  \u001b[39m# noqa:F401\u001b[39;00m\n\u001b[0;32m     16\u001b[0m \u001b[39mfrom\u001b[39;00m \u001b[39m.\u001b[39;00m\u001b[39mucicorpus\u001b[39;00m \u001b[39mimport\u001b[39;00m UciCorpus  \u001b[39m# noqa:F401\u001b[39;00m\n",
      "File \u001b[1;32mc:\\Users\\basel\\AppData\\Local\\Programs\\Python\\Python310\\lib\\site-packages\\gensim\\corpora\\wikicorpus.py:32\u001b[0m\n\u001b[0;32m     30\u001b[0m \u001b[39m# cannot import whole gensim.corpora, because that imports wikicorpus...\u001b[39;00m\n\u001b[0;32m     31\u001b[0m \u001b[39mfrom\u001b[39;00m \u001b[39mgensim\u001b[39;00m\u001b[39m.\u001b[39;00m\u001b[39mcorpora\u001b[39;00m\u001b[39m.\u001b[39;00m\u001b[39mdictionary\u001b[39;00m \u001b[39mimport\u001b[39;00m Dictionary\n\u001b[1;32m---> 32\u001b[0m \u001b[39mfrom\u001b[39;00m \u001b[39mgensim\u001b[39;00m\u001b[39m.\u001b[39;00m\u001b[39mcorpora\u001b[39;00m\u001b[39m.\u001b[39;00m\u001b[39mtextcorpus\u001b[39;00m \u001b[39mimport\u001b[39;00m TextCorpus\n\u001b[0;32m     35\u001b[0m logger \u001b[39m=\u001b[39m logging\u001b[39m.\u001b[39mgetLogger(\u001b[39m__name__\u001b[39m)\n\u001b[0;32m     37\u001b[0m ARTICLE_MIN_WORDS \u001b[39m=\u001b[39m \u001b[39m50\u001b[39m\n",
      "File \u001b[1;32mc:\\Users\\basel\\AppData\\Local\\Programs\\Python\\Python310\\lib\\site-packages\\gensim\\corpora\\textcorpus.py:46\u001b[0m\n\u001b[0;32m     44\u001b[0m \u001b[39mfrom\u001b[39;00m \u001b[39mgensim\u001b[39;00m \u001b[39mimport\u001b[39;00m interfaces, utils\n\u001b[0;32m     45\u001b[0m \u001b[39mfrom\u001b[39;00m \u001b[39mgensim\u001b[39;00m\u001b[39m.\u001b[39;00m\u001b[39mcorpora\u001b[39;00m\u001b[39m.\u001b[39;00m\u001b[39mdictionary\u001b[39;00m \u001b[39mimport\u001b[39;00m Dictionary\n\u001b[1;32m---> 46\u001b[0m \u001b[39mfrom\u001b[39;00m \u001b[39mgensim\u001b[39;00m\u001b[39m.\u001b[39;00m\u001b[39mparsing\u001b[39;00m\u001b[39m.\u001b[39;00m\u001b[39mpreprocessing\u001b[39;00m \u001b[39mimport\u001b[39;00m (\n\u001b[0;32m     47\u001b[0m     remove_stopword_tokens, remove_short_tokens,\n\u001b[0;32m     48\u001b[0m     lower_to_unicode, strip_multiple_whitespaces,\n\u001b[0;32m     49\u001b[0m )\n\u001b[0;32m     50\u001b[0m \u001b[39mfrom\u001b[39;00m \u001b[39mgensim\u001b[39;00m\u001b[39m.\u001b[39;00m\u001b[39mutils\u001b[39;00m \u001b[39mimport\u001b[39;00m deaccent, simple_tokenize\n\u001b[0;32m     52\u001b[0m \u001b[39mfrom\u001b[39;00m \u001b[39msmart_open\u001b[39;00m \u001b[39mimport\u001b[39;00m \u001b[39mopen\u001b[39m\n",
      "\u001b[1;31mImportError\u001b[0m: cannot import name 'remove_stopword_tokens' from 'gensim.parsing.preprocessing' (c:\\Users\\basel\\AppData\\Local\\Programs\\Python\\Python310\\lib\\site-packages\\gensim\\parsing\\preprocessing.py)"
     ]
    }
   ],
   "source": [
    "import numpy as np\n",
    "import enchant\n",
    "from gensim.models import KeyedVectors\n",
    "\n",
    "# Load the pre-trained GloVe word embeddings\n",
    "glove_model = KeyedVectors.load_word2vec_format('D:\\\\glove.6B.100d.txt', binary=False, encoding='utf-8')\n",
    "\n",
    "# Create an instance of the English dictionary\n",
    "english_dict = enchant.Dict(\"en_US\")\n",
    "\n",
    "def auto_correct(text):\n",
    "    # Split the text into individual words\n",
    "    words = text.split()\n",
    "\n",
    "    # Create an empty list to store the corrected words\n",
    "    corrected_words = []\n",
    "\n",
    "    for word in words:\n",
    "        if not english_dict.check(word):\n",
    "            # If the word is misspelled, find the most similar word using GloVe embeddings\n",
    "            similar_words = glove_model.most_similar(word, topn=10)\n",
    "\n",
    "            for w, _ in similar_words:\n",
    "                if english_dict.check(w):\n",
    "                    # Choose the first correctly spelled word as the corrected word\n",
    "                    corrected_word = w\n",
    "                    break\n",
    "            else:\n",
    "                # If no similar words are found, keep the original word\n",
    "                corrected_word = word\n",
    "        else:\n",
    "            # If the word is correctly spelled, keep it as is\n",
    "            corrected_word = word\n",
    "\n",
    "        # Add the corrected word to the list of corrected words\n",
    "        corrected_words.append(corrected_word)\n",
    "\n",
    "    # Join the corrected words back into a single string\n",
    "    corrected_text = ' '.join(corrected_words)\n",
    "\n",
    "    return corrected_text\n"
   ]
  }
 ],
 "metadata": {
  "kernelspec": {
   "display_name": "Python 3",
   "language": "python",
   "name": "python3"
  },
  "language_info": {
   "codemirror_mode": {
    "name": "ipython",
    "version": 3
   },
   "file_extension": ".py",
   "mimetype": "text/x-python",
   "name": "python",
   "nbconvert_exporter": "python",
   "pygments_lexer": "ipython3",
   "version": "3.10.0"
  },
  "orig_nbformat": 4
 },
 "nbformat": 4,
 "nbformat_minor": 2
}
