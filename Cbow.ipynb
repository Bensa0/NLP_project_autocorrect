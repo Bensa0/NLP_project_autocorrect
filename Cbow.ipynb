{
 "cells": [
  {
   "cell_type": "code",
   "execution_count": 1,
   "metadata": {},
   "outputs": [],
   "source": [
    "import numpy as np\n",
    "import keras.backend as K\n",
    "from keras.models import Sequential\n",
    "from keras.layers import Dense, Embedding, Lambda\n",
    "from keras.utils import np_utils\n",
    "from keras.preprocessing import sequence\n",
    "from keras.preprocessing.text import Tokenizer\n",
    "import gensim"
   ]
  },
  {
   "cell_type": "code",
   "execution_count": 2,
   "metadata": {},
   "outputs": [],
   "source": [
    "import numpy as np\n",
    "import tensorflow as tf\n",
    "from scipy.spatial.distance import cdist\n",
    "\n",
    "# Load GloVe word vectors\n",
    "def load_word_vectors(file_path):\n",
    "    with open(file_path, 'r', encoding='utf-8') as f:\n",
    "        words = set()\n",
    "        word_to_vec_map = {}\n",
    "        for line in f:\n",
    "            line = line.strip().split()\n",
    "            curr_word = line[0]\n",
    "            words.add(curr_word)\n",
    "            word_to_vec_map[curr_word] = np.array(line[1:], dtype=np.float64)\n",
    "    return words, word_to_vec_map\n",
    "\n",
    "# Load data and create vocabulary\n",
    "def load_data(file_path):\n",
    "    data = []\n",
    "    with open(file_path, 'r', encoding='utf-8') as f:\n",
    "        for line in f:\n",
    "            line = line.strip().split()\n",
    "            data.append(line)\n",
    "    words = set([word for line in data for word in line])\n",
    "    word_to_idx = {word: idx for idx, word in enumerate(words)}\n",
    "    idx_to_word = {idx: word for word, idx in word_to_idx.items()}\n",
    "    return data, word_to_idx, idx_to_word\n",
    "\n",
    "# Generate batches for training\n",
    "def generate_batches(data, word_to_idx, window_size, batch_size):\n",
    "    X, y = [], []\n",
    "    while True:\n",
    "        for line in data:\n",
    "            for i, word in enumerate(line):\n",
    "                for j in range(max(i - window_size, 0), min(i + window_size + 1, len(line))):\n",
    "                    if i != j:\n",
    "                        X.append(word_to_idx[word])\n",
    "                        y.append(word_to_idx[line[j]])\n",
    "                        if len(X) == batch_size:\n",
    "                            yield np.array(X), np.array(y)\n",
    "                            X, y = [], []\n",
    "\n",
    "# Build the CBOW model\n",
    "class CBOWModel(tf.keras.Model):\n",
    "    def __init__(self, vocab_size, embedding_size):\n",
    "        super(CBOWModel, self).__init__()\n",
    "        self.embeddings = tf.keras.layers.Embedding(input_dim=vocab_size, output_dim=embedding_size, input_length=1)\n",
    "        self.mean = tf.keras.layers.Lambda(lambda x: tf.keras.backend.mean(x, axis=1))\n",
    "        self.dense = tf.keras.layers.Dense(units=vocab_size, activation='softmax')\n",
    "\n",
    "    def call(self, inputs):\n",
    "        x = self.embeddings(inputs)\n",
    "        x = self.mean(x)\n",
    "        x = self.dense(x)\n",
    "        return x\n",
    "\n",
    "# Train the CBOW model\n",
    "def train_cbow_model(data_file, glove_file, window_size=2, embedding_size=100, batch_size=128, num_epochs=50, learning_rate=0.01, save_path=None):\n",
    "    # Load data and word vectors\n",
    "    data, word_to_idx, idx_to_word = load_data(data_file)\n",
    "    words, word_to_vec_map = load_word_vectors(glove_file)\n",
    "    vocab_size = len(word_to_idx)\n",
    "\n",
    "    # Generate batches for training\n",
    "    batch_generator = generate_batches(data, word_to_idx, window_size, batch_size)\n",
    "\n",
    "    # Build and compile the model\n",
    "    model = CBOWModel(vocab_size, embedding_size)\n",
    "    model.compile(optimizer=tf.optimizers.Adam(learning_rate=learning_rate), loss='sparse_categorical_crossentropy')\n",
    "\n",
    "    # Train the model\n",
    "    history = model.fit(batch_generator, epochs=num_epochs, steps_per_epoch=len(data) * (len(data[0]) - 2*window_size) // batch_size)\n",
    "\n",
    "    # Save the model\n",
    "    if save_path is not None:\n",
    "        model.save(save_path)\n",
    "\n",
    "    # Return the trained model\n",
    "    return model, word_to_idx, idx_to_word"
   ]
  },
  {
   "cell_type": "code",
   "execution_count": 6,
   "metadata": {},
   "outputs": [
    {
     "ename": "ValueError",
     "evalue": "Exception encountered when calling layer 'cbow_model' (type CBOWModel).\n\nInput 0 of layer \"dense\" is incompatible with the layer: expected min_ndim=2, found ndim=1. Full shape received: (128,)\n\nCall arguments received by layer 'cbow_model' (type CBOWModel):\n  • inputs=tf.Tensor(shape=(128,), dtype=int32)",
     "output_type": "error",
     "traceback": [
      "\u001b[1;31m---------------------------------------------------------------------------\u001b[0m",
      "\u001b[1;31mValueError\u001b[0m                                Traceback (most recent call last)",
      "Cell \u001b[1;32mIn[6], line 1\u001b[0m\n\u001b[1;32m----> 1\u001b[0m train_cbow_model(\u001b[39m\"\u001b[39;49m\u001b[39mFrankenstein.txt\u001b[39;49m\u001b[39m\"\u001b[39;49m, \u001b[39m\"\u001b[39;49m\u001b[39mglove.6B.100d.txt\u001b[39;49m\u001b[39m\"\u001b[39;49m, save_path\u001b[39m=\u001b[39;49m\u001b[39m\"\u001b[39;49m\u001b[39mmodel.h5\u001b[39;49m\u001b[39m\"\u001b[39;49m)\n",
      "Cell \u001b[1;32mIn[2], line 72\u001b[0m, in \u001b[0;36mtrain_cbow_model\u001b[1;34m(data_file, glove_file, window_size, embedding_size, batch_size, num_epochs, learning_rate, save_path)\u001b[0m\n\u001b[0;32m     69\u001b[0m model\u001b[39m.\u001b[39mcompile(optimizer\u001b[39m=\u001b[39mtf\u001b[39m.\u001b[39moptimizers\u001b[39m.\u001b[39mAdam(learning_rate\u001b[39m=\u001b[39mlearning_rate), loss\u001b[39m=\u001b[39m\u001b[39m'\u001b[39m\u001b[39msparse_categorical_crossentropy\u001b[39m\u001b[39m'\u001b[39m)\n\u001b[0;32m     71\u001b[0m \u001b[39m# Train the model\u001b[39;00m\n\u001b[1;32m---> 72\u001b[0m history \u001b[39m=\u001b[39m model\u001b[39m.\u001b[39;49mfit(batch_generator, epochs\u001b[39m=\u001b[39;49mnum_epochs, steps_per_epoch\u001b[39m=\u001b[39;49m\u001b[39mlen\u001b[39;49m(data) \u001b[39m*\u001b[39;49m (\u001b[39mlen\u001b[39;49m(data[\u001b[39m0\u001b[39;49m]) \u001b[39m-\u001b[39;49m \u001b[39m2\u001b[39;49m\u001b[39m*\u001b[39;49mwindow_size) \u001b[39m/\u001b[39;49m\u001b[39m/\u001b[39;49m batch_size)\n\u001b[0;32m     74\u001b[0m \u001b[39m# Save the model\u001b[39;00m\n\u001b[0;32m     75\u001b[0m \u001b[39mif\u001b[39;00m save_path \u001b[39mis\u001b[39;00m \u001b[39mnot\u001b[39;00m \u001b[39mNone\u001b[39;00m:\n",
      "File \u001b[1;32mc:\\Users\\Zeyad\\AppData\\Local\\Programs\\Python\\Python310\\lib\\site-packages\\keras\\utils\\traceback_utils.py:70\u001b[0m, in \u001b[0;36mfilter_traceback.<locals>.error_handler\u001b[1;34m(*args, **kwargs)\u001b[0m\n\u001b[0;32m     67\u001b[0m     filtered_tb \u001b[39m=\u001b[39m _process_traceback_frames(e\u001b[39m.\u001b[39m__traceback__)\n\u001b[0;32m     68\u001b[0m     \u001b[39m# To get the full stack trace, call:\u001b[39;00m\n\u001b[0;32m     69\u001b[0m     \u001b[39m# `tf.debugging.disable_traceback_filtering()`\u001b[39;00m\n\u001b[1;32m---> 70\u001b[0m     \u001b[39mraise\u001b[39;00m e\u001b[39m.\u001b[39mwith_traceback(filtered_tb) \u001b[39mfrom\u001b[39;00m \u001b[39mNone\u001b[39m\n\u001b[0;32m     71\u001b[0m \u001b[39mfinally\u001b[39;00m:\n\u001b[0;32m     72\u001b[0m     \u001b[39mdel\u001b[39;00m filtered_tb\n",
      "Cell \u001b[1;32mIn[2], line 54\u001b[0m, in \u001b[0;36mCBOWModel.call\u001b[1;34m(self, inputs)\u001b[0m\n\u001b[0;32m     52\u001b[0m x \u001b[39m=\u001b[39m \u001b[39mself\u001b[39m\u001b[39m.\u001b[39membeddings(inputs)\n\u001b[0;32m     53\u001b[0m x \u001b[39m=\u001b[39m \u001b[39mself\u001b[39m\u001b[39m.\u001b[39mmean(x)\n\u001b[1;32m---> 54\u001b[0m x \u001b[39m=\u001b[39m \u001b[39mself\u001b[39;49m\u001b[39m.\u001b[39;49mdense(x)\n\u001b[0;32m     55\u001b[0m \u001b[39mreturn\u001b[39;00m x\n",
      "\u001b[1;31mValueError\u001b[0m: Exception encountered when calling layer 'cbow_model' (type CBOWModel).\n\nInput 0 of layer \"dense\" is incompatible with the layer: expected min_ndim=2, found ndim=1. Full shape received: (128,)\n\nCall arguments received by layer 'cbow_model' (type CBOWModel):\n  • inputs=tf.Tensor(shape=(128,), dtype=int32)"
     ]
    }
   ],
   "source": [
    "train_cbow_model(\"Frankenstein.txt\", \"glove.6B.100d.txt\", save_path=\"model.h5\")"
   ]
  },
  {
   "cell_type": "code",
   "execution_count": null,
   "metadata": {},
   "outputs": [],
   "source": []
  }
 ],
 "metadata": {
  "kernelspec": {
   "display_name": "Python 3",
   "language": "python",
   "name": "python3"
  },
  "language_info": {
   "codemirror_mode": {
    "name": "ipython",
    "version": 3
   },
   "file_extension": ".py",
   "mimetype": "text/x-python",
   "name": "python",
   "nbconvert_exporter": "python",
   "pygments_lexer": "ipython3",
   "version": "3.10.5"
  },
  "orig_nbformat": 4
 },
 "nbformat": 4,
 "nbformat_minor": 2
}
