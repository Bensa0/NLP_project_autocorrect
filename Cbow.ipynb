{
 "cells": [
  {
   "cell_type": "code",
   "execution_count": 1,
   "metadata": {},
   "outputs": [],
   "source": [
    "import numpy as np\n",
    "import keras.backend as K\n",
    "from keras.models import Sequential\n",
    "from keras.layers import Dense, Embedding, Lambda\n",
    "from keras.utils import np_utils\n",
    "from keras.preprocessing import sequence\n",
    "from keras.preprocessing.text import Tokenizer\n",
    "import gensim"
   ]
  },
  {
   "cell_type": "code",
   "execution_count": 2,
   "metadata": {},
   "outputs": [],
   "source": [
    "import numpy as np\n",
    "import pandas as pd\n",
    "from sklearn.metrics.pairwise import cosine_similarity\n",
    "from spellchecker import SpellChecker\n",
    "import Levenshtein\n"
   ]
  },
  {
   "cell_type": "code",
   "execution_count": 3,
   "metadata": {},
   "outputs": [],
   "source": [
    "# # Load the GloVe word embeddings\n",
    "# def load_embeddings(embedding_file):\n",
    "#     embeddings_index = {}\n",
    "#     with open(embedding_file, encoding='utf-8') as f:\n",
    "#         for line in f:\n",
    "#             values = line.split()\n",
    "#             word = values[0]\n",
    "#             coefs = np.asarray(values[1:], dtype='float32')\n",
    "#             embeddings_index[word] = coefs\n",
    "#     return embeddings_index"
   ]
  },
  {
   "cell_type": "code",
   "execution_count": 4,
   "metadata": {},
   "outputs": [],
   "source": [
    "# # Define a function to predict the next word given a context\n",
    "# def predict_next_word(context):\n",
    "#     context_words = context.split()\n",
    "#     context_embedding = np.zeros((len(embeddings_index[next(iter(embeddings_index))]),))\n",
    "#     for word in context_words:\n",
    "#         if word in embeddings_index:\n",
    "#             context_embedding += embeddings_index[word]\n",
    "#     context_embedding /= len(context_words)\n",
    "    \n",
    "#     similarities = {}\n",
    "#     for word in embeddings_index.keys():\n",
    "#         if word not in context_words:\n",
    "#             word_embedding = embeddings_index[word]\n",
    "#             sim = cosine_similarity([context_embedding], [word_embedding])[0][0]\n",
    "#             similarities[word] = sim\n",
    "            \n",
    "#     top_3_words = sorted(similarities.items(), key=lambda x: x[1], reverse=True)[:3]\n",
    "#     return [w[0] for w in top_3_words]\n"
   ]
  },
  {
   "cell_type": "code",
   "execution_count": 3,
   "metadata": {},
   "outputs": [],
   "source": [
    "# Load GloVe word vectors\n",
    "def load_word_vectors(file_path):\n",
    "    with open(file_path, 'r', encoding='utf-8') as f:\n",
    "        words = set()\n",
    "        word_to_vec_map = {}\n",
    "        for line in f:\n",
    "            line = line.strip().split()\n",
    "            curr_word = line[0]\n",
    "            words.add(curr_word)\n",
    "            word_to_vec_map[curr_word] = np.array(line[1:], dtype=np.float64)\n",
    "    return words, word_to_vec_map"
   ]
  },
  {
   "cell_type": "code",
   "execution_count": 4,
   "metadata": {},
   "outputs": [],
   "source": [
    "words, word_to_vec_map = load_word_vectors(\"glove.6B.100d.txt\")"
   ]
  },
  {
   "cell_type": "code",
   "execution_count": 7,
   "metadata": {},
   "outputs": [],
   "source": [
    "import nltk\n",
    "from collections import Counter\n",
    "from itertools import chain\n",
    "\n",
    "# Step 1: Preprocess text data\n",
    "text_corpus = ['This is a sample sentence.', 'Another sentence for the example.']\n",
    "tokenized_corpus = [nltk.word_tokenize(sentence.lower()) for sentence in text_corpus]\n",
    "tokens = list(chain(*tokenized_corpus))\n",
    "\n",
    "# Step 2: Build frequency distribution of words\n",
    "word_frequencies = Counter(tokens)\n",
    "\n",
    "# Step 3: Filter the vocabulary\n",
    "stopwords = set(nltk.corpus.stopwords.words('english'))\n",
    "vocabulary = [word for word in word_frequencies if word not in stopwords and word_frequencies[word] > 1]\n",
    "\n",
    "# Step 4: Assign indices to words\n",
    "word_to_index = {word: i for i, word in enumerate(vocabulary)}\n",
    "\n",
    "# Step 5: Create word embeddings\n",
    "words, word_to_vec_map = load_word_vectors('glove.6B.100d.txt')\n",
    "embedding_matrix = np.zeros((len(vocabulary), 100))\n",
    "for word, i in word_to_index.items():\n",
    "    if word in words:\n",
    "        embedding_matrix[i] = word_to_vec_map[word]\n",
    "\n",
    "\n",
    "# Tokenize input text\n",
    "input_text = 'Ths is a sntnce wth sme typoos.'\n",
    "tokens = nltk.word_tokenize(input_text.lower())\n",
    "\n",
    "# Identify misspelled words\n",
    "misspelled_words = []\n",
    "for token in tokens:\n",
    "    if token not in words:\n",
    "        misspelled_words.append(token)\n",
    "\n",
    "print('Input text:', input_text)\n",
    "print('Tokens:', tokens)\n",
    "print('Misspelled words:', misspelled_words)\n"
   ]
  },
  {
   "cell_type": "code",
   "execution_count": 10,
   "metadata": {},
   "outputs": [
    {
     "data": {
      "text/plain": [
       "Counter({'this': 1,\n",
       "         'is': 1,\n",
       "         'a': 1,\n",
       "         'sample': 1,\n",
       "         'sentence': 2,\n",
       "         '.': 2,\n",
       "         'another': 1,\n",
       "         'for': 1,\n",
       "         'the': 1,\n",
       "         'example': 1})"
      ]
     },
     "execution_count": 10,
     "metadata": {},
     "output_type": "execute_result"
    }
   ],
   "source": [
    "word_frequencies"
   ]
  },
  {
   "cell_type": "code",
   "execution_count": 7,
   "metadata": {},
   "outputs": [],
   "source": [
    "def spell_check(text, vocab):\n",
    "    list_of_words = text.split()\n",
    "    misspelled_words = []\n",
    "    for word in list_of_words:\n",
    "        if word not in vocab:\n",
    "            misspelled_words.append(word)\n",
    "    return misspelled_words    \n",
    "     "
   ]
  },
  {
   "cell_type": "code",
   "execution_count": 8,
   "metadata": {},
   "outputs": [],
   "source": [
    "def correct_words(misspelled_words):\n",
    "    spell = SpellChecker()\n",
    "    list_of_candidate_words = []\n",
    "    for word in misspelled_words:\n",
    "        candidate_words = spell.candidates(word)\n",
    "        list_of_candidate_words.append([word, candidate_words])\n",
    "    return list_of_candidate_words"
   ]
  },
  {
   "cell_type": "code",
   "execution_count": 14,
   "metadata": {},
   "outputs": [],
   "source": [
    "def choose_the_best_candidate(list_of_candidate_words):\n",
    "    distances = []\n",
    "    correct_word = []\n",
    "    for item in list_of_candidate_words:\n",
    "        for cadidate in item[1]:\n",
    "            distances.append(Levenshtein.distance(item[0], cadidate))\n",
    "        max_value = max(distances)\n",
    "        max_index = distances.index(max_value)\n",
    "        correct_word.append([item[0], list(item[1])[max_index]])\n",
    "    return correct_word"
   ]
  },
  {
   "cell_type": "code",
   "execution_count": 15,
   "metadata": {},
   "outputs": [
    {
     "data": {
      "text/plain": [
       "['forsoken', 'laaand', 'beyon']"
      ]
     },
     "execution_count": 15,
     "metadata": {},
     "output_type": "execute_result"
    }
   ],
   "source": [
    "text = \"you aree forsoken in the laaand beyon the fog\"\n",
    "misspelled_words = spell_check(text=text, vocab=words)\n",
    "misspelled_words"
   ]
  },
  {
   "cell_type": "code",
   "execution_count": 16,
   "metadata": {},
   "outputs": [
    {
     "data": {
      "text/plain": [
       "[['forsoken', {'forsaken'}],\n",
       " ['laaand',\n",
       "  {'ahand',\n",
       "   'anand',\n",
       "   'baaad',\n",
       "   'carand',\n",
       "   'dayand',\n",
       "   'laaa',\n",
       "   'lagaan',\n",
       "   'lamond',\n",
       "   'land',\n",
       "   'lazard',\n",
       "   'leland',\n",
       "   'lnland',\n",
       "   'lsland'}],\n",
       " ['beyon', {'bayon', 'belon', 'beon', 'beton', 'beyond', 'beyong'}]]"
      ]
     },
     "execution_count": 16,
     "metadata": {},
     "output_type": "execute_result"
    }
   ],
   "source": [
    "list_of_candidate_words = correct_words(misspelled_words=misspelled_words)\n",
    "list_of_candidate_words"
   ]
  },
  {
   "cell_type": "code",
   "execution_count": 17,
   "metadata": {},
   "outputs": [
    {
     "data": {
      "text/plain": [
       "[['forsoken', 'forsaken'], ['laaand', 'dayand'], ['beyon', 'beton']]"
      ]
     },
     "execution_count": 17,
     "metadata": {},
     "output_type": "execute_result"
    }
   ],
   "source": [
    "correct_word = choose_the_best_candidate(list_of_candidate_words=list_of_candidate_words)\n",
    "correct_word"
   ]
  },
  {
   "cell_type": "code",
   "execution_count": 18,
   "metadata": {},
   "outputs": [
    {
     "data": {
      "text/plain": [
       "'land'"
      ]
     },
     "execution_count": 18,
     "metadata": {},
     "output_type": "execute_result"
    }
   ],
   "source": [
    "spell = SpellChecker()\n",
    "spell.correction(\"laaand\")"
   ]
  },
  {
   "cell_type": "code",
   "execution_count": 23,
   "metadata": {},
   "outputs": [
    {
     "data": {
      "text/plain": [
       "True"
      ]
     },
     "execution_count": 23,
     "metadata": {},
     "output_type": "execute_result"
    }
   ],
   "source": [
    "\"leland\" in words"
   ]
  },
  {
   "cell_type": "code",
   "execution_count": 18,
   "metadata": {},
   "outputs": [
    {
     "name": "stderr",
     "output_type": "stream",
     "text": [
      "[nltk_data] Downloading package words to\n",
      "[nltk_data]     C:\\Users\\basel\\AppData\\Roaming\\nltk_data...\n",
      "[nltk_data]   Package words is already up-to-date!\n"
     ]
    }
   ],
   "source": [
    "import random\n",
    "import nltk\n",
    "\n",
    "# Set the seed for reproducibility\n",
    "random.seed(42)\n",
    "\n",
    "# Load the NLTK English corpus\n",
    "nltk.download('words')\n",
    "words = set(nltk.corpus.words.words())\n",
    "\n",
    "# Generate a list of random words\n",
    "num_words = 20\n",
    "random_words = []\n",
    "while len(random_words) < num_words:\n",
    "    # Generate a random word\n",
    "    word = random.choice(list(words))\n",
    "    # Check if the word is a single word and not a phrase\n",
    "    if ' ' not in word:\n",
    "        random_words.append(word.lower())\n",
    "\n",
    "# Print the random words\n"
   ]
  },
  {
   "cell_type": "code",
   "execution_count": 19,
   "metadata": {},
   "outputs": [
    {
     "data": {
      "text/plain": [
       "['untemptability',\n",
       " 'refrigeration',\n",
       " 'tangaridae',\n",
       " 'chancrous',\n",
       " 'excogitation',\n",
       " 'diaphanoscopy',\n",
       " 'olivinic',\n",
       " 'thujopsis',\n",
       " 'sharezer',\n",
       " 'rimmaking',\n",
       " 'shirttail',\n",
       " 'achromatopia',\n",
       " 'belay',\n",
       " 'atomism',\n",
       " 'fluoboride',\n",
       " 'inbred',\n",
       " 'chiococcine',\n",
       " 'misspend',\n",
       " 'inlay',\n",
       " 'metanephritic']"
      ]
     },
     "execution_count": 19,
     "metadata": {},
     "output_type": "execute_result"
    }
   ],
   "source": [
    "vocabulary = random_words\n",
    "vocabulary"
   ]
  },
  {
   "cell_type": "code",
   "execution_count": 35,
   "metadata": {},
   "outputs": [],
   "source": [
    "from gensim.test.utils import datapath, get_tmpfile\n",
    "from gensim.models import KeyedVectors\n"
   ]
  },
  {
   "cell_type": "code",
   "execution_count": 38,
   "metadata": {},
   "outputs": [
    {
     "data": {
      "text/plain": [
       "'C:\\\\Users\\\\basel\\\\AppData\\\\Local\\\\Temp\\\\tmpz926yl2m\\\\glove.6B.100d.txt'"
      ]
     },
     "execution_count": 38,
     "metadata": {},
     "output_type": "execute_result"
    }
   ],
   "source": [
    "\n",
    "tmp_file = get_tmpfile(\"glove.6B.100d.txt\")\n",
    "\n",
    "tmp_file\n"
   ]
  },
  {
   "cell_type": "code",
   "execution_count": 39,
   "metadata": {},
   "outputs": [
    {
     "ename": "FileNotFoundError",
     "evalue": "[Errno 2] No such file or directory: 'C:\\\\Users\\\\basel\\\\AppData\\\\Local\\\\Temp\\\\tmpz926yl2m\\\\glove.6B.100d.txt'",
     "output_type": "error",
     "traceback": [
      "\u001b[1;31m---------------------------------------------------------------------------\u001b[0m",
      "\u001b[1;31mFileNotFoundError\u001b[0m                         Traceback (most recent call last)",
      "Cell \u001b[1;32mIn[39], line 1\u001b[0m\n\u001b[1;32m----> 1\u001b[0m model \u001b[39m=\u001b[39m KeyedVectors\u001b[39m.\u001b[39;49mload_word2vec_format(tmp_file)\n",
      "File \u001b[1;32mc:\\Users\\basel\\AppData\\Local\\Programs\\Python\\Python310\\lib\\site-packages\\gensim\\models\\keyedvectors.py:1719\u001b[0m, in \u001b[0;36mKeyedVectors.load_word2vec_format\u001b[1;34m(cls, fname, fvocab, binary, encoding, unicode_errors, limit, datatype, no_header)\u001b[0m\n\u001b[0;32m   1672\u001b[0m \u001b[39m@classmethod\u001b[39m\n\u001b[0;32m   1673\u001b[0m \u001b[39mdef\u001b[39;00m \u001b[39mload_word2vec_format\u001b[39m(\n\u001b[0;32m   1674\u001b[0m         \u001b[39mcls\u001b[39m, fname, fvocab\u001b[39m=\u001b[39m\u001b[39mNone\u001b[39;00m, binary\u001b[39m=\u001b[39m\u001b[39mFalse\u001b[39;00m, encoding\u001b[39m=\u001b[39m\u001b[39m'\u001b[39m\u001b[39mutf8\u001b[39m\u001b[39m'\u001b[39m, unicode_errors\u001b[39m=\u001b[39m\u001b[39m'\u001b[39m\u001b[39mstrict\u001b[39m\u001b[39m'\u001b[39m,\n\u001b[0;32m   1675\u001b[0m         limit\u001b[39m=\u001b[39m\u001b[39mNone\u001b[39;00m, datatype\u001b[39m=\u001b[39mREAL, no_header\u001b[39m=\u001b[39m\u001b[39mFalse\u001b[39;00m,\n\u001b[0;32m   1676\u001b[0m     ):\n\u001b[0;32m   1677\u001b[0m \u001b[39m    \u001b[39m\u001b[39m\"\"\"Load KeyedVectors from a file produced by the original C word2vec-tool format.\u001b[39;00m\n\u001b[0;32m   1678\u001b[0m \n\u001b[0;32m   1679\u001b[0m \u001b[39m    Warnings\u001b[39;00m\n\u001b[1;32m   (...)\u001b[0m\n\u001b[0;32m   1717\u001b[0m \n\u001b[0;32m   1718\u001b[0m \u001b[39m    \"\"\"\u001b[39;00m\n\u001b[1;32m-> 1719\u001b[0m     \u001b[39mreturn\u001b[39;00m _load_word2vec_format(\n\u001b[0;32m   1720\u001b[0m         \u001b[39mcls\u001b[39;49m, fname, fvocab\u001b[39m=\u001b[39;49mfvocab, binary\u001b[39m=\u001b[39;49mbinary, encoding\u001b[39m=\u001b[39;49mencoding, unicode_errors\u001b[39m=\u001b[39;49municode_errors,\n\u001b[0;32m   1721\u001b[0m         limit\u001b[39m=\u001b[39;49mlimit, datatype\u001b[39m=\u001b[39;49mdatatype, no_header\u001b[39m=\u001b[39;49mno_header,\n\u001b[0;32m   1722\u001b[0m     )\n",
      "File \u001b[1;32mc:\\Users\\basel\\AppData\\Local\\Programs\\Python\\Python310\\lib\\site-packages\\gensim\\models\\keyedvectors.py:2048\u001b[0m, in \u001b[0;36m_load_word2vec_format\u001b[1;34m(cls, fname, fvocab, binary, encoding, unicode_errors, limit, datatype, no_header, binary_chunk_size)\u001b[0m\n\u001b[0;32m   2045\u001b[0m             counts[word] \u001b[39m=\u001b[39m \u001b[39mint\u001b[39m(count)\n\u001b[0;32m   2047\u001b[0m logger\u001b[39m.\u001b[39minfo(\u001b[39m\"\u001b[39m\u001b[39mloading projection weights from \u001b[39m\u001b[39m%s\u001b[39;00m\u001b[39m\"\u001b[39m, fname)\n\u001b[1;32m-> 2048\u001b[0m \u001b[39mwith\u001b[39;00m utils\u001b[39m.\u001b[39;49mopen(fname, \u001b[39m'\u001b[39;49m\u001b[39mrb\u001b[39;49m\u001b[39m'\u001b[39;49m) \u001b[39mas\u001b[39;00m fin:\n\u001b[0;32m   2049\u001b[0m     \u001b[39mif\u001b[39;00m no_header:\n\u001b[0;32m   2050\u001b[0m         \u001b[39m# deduce both vocab_size & vector_size from 1st pass over file\u001b[39;00m\n\u001b[0;32m   2051\u001b[0m         \u001b[39mif\u001b[39;00m binary:\n",
      "File \u001b[1;32mc:\\Users\\basel\\AppData\\Local\\Programs\\Python\\Python310\\lib\\site-packages\\smart_open\\smart_open_lib.py:177\u001b[0m, in \u001b[0;36mopen\u001b[1;34m(uri, mode, buffering, encoding, errors, newline, closefd, opener, compression, transport_params)\u001b[0m\n\u001b[0;32m    174\u001b[0m \u001b[39mif\u001b[39;00m transport_params \u001b[39mis\u001b[39;00m \u001b[39mNone\u001b[39;00m:\n\u001b[0;32m    175\u001b[0m     transport_params \u001b[39m=\u001b[39m {}\n\u001b[1;32m--> 177\u001b[0m fobj \u001b[39m=\u001b[39m _shortcut_open(\n\u001b[0;32m    178\u001b[0m     uri,\n\u001b[0;32m    179\u001b[0m     mode,\n\u001b[0;32m    180\u001b[0m     compression\u001b[39m=\u001b[39;49mcompression,\n\u001b[0;32m    181\u001b[0m     buffering\u001b[39m=\u001b[39;49mbuffering,\n\u001b[0;32m    182\u001b[0m     encoding\u001b[39m=\u001b[39;49mencoding,\n\u001b[0;32m    183\u001b[0m     errors\u001b[39m=\u001b[39;49merrors,\n\u001b[0;32m    184\u001b[0m     newline\u001b[39m=\u001b[39;49mnewline,\n\u001b[0;32m    185\u001b[0m )\n\u001b[0;32m    186\u001b[0m \u001b[39mif\u001b[39;00m fobj \u001b[39mis\u001b[39;00m \u001b[39mnot\u001b[39;00m \u001b[39mNone\u001b[39;00m:\n\u001b[0;32m    187\u001b[0m     \u001b[39mreturn\u001b[39;00m fobj\n",
      "File \u001b[1;32mc:\\Users\\basel\\AppData\\Local\\Programs\\Python\\Python310\\lib\\site-packages\\smart_open\\smart_open_lib.py:363\u001b[0m, in \u001b[0;36m_shortcut_open\u001b[1;34m(uri, mode, compression, buffering, encoding, errors, newline)\u001b[0m\n\u001b[0;32m    360\u001b[0m \u001b[39mif\u001b[39;00m errors \u001b[39mand\u001b[39;00m \u001b[39m'\u001b[39m\u001b[39mb\u001b[39m\u001b[39m'\u001b[39m \u001b[39mnot\u001b[39;00m \u001b[39min\u001b[39;00m mode:\n\u001b[0;32m    361\u001b[0m     open_kwargs[\u001b[39m'\u001b[39m\u001b[39merrors\u001b[39m\u001b[39m'\u001b[39m] \u001b[39m=\u001b[39m errors\n\u001b[1;32m--> 363\u001b[0m \u001b[39mreturn\u001b[39;00m _builtin_open(local_path, mode, buffering\u001b[39m=\u001b[39mbuffering, \u001b[39m*\u001b[39m\u001b[39m*\u001b[39mopen_kwargs)\n",
      "\u001b[1;31mFileNotFoundError\u001b[0m: [Errno 2] No such file or directory: 'C:\\\\Users\\\\basel\\\\AppData\\\\Local\\\\Temp\\\\tmpz926yl2m\\\\glove.6B.100d.txt'"
     ]
    }
   ],
   "source": [
    "model = KeyedVectors.load_word2vec_format(tmp_file)"
   ]
  },
  {
   "cell_type": "code",
   "execution_count": 29,
   "metadata": {},
   "outputs": [
    {
     "ename": "ValueError",
     "evalue": "invalid literal for int() with base 10: 'the'",
     "output_type": "error",
     "traceback": [
      "\u001b[1;31m---------------------------------------------------------------------------\u001b[0m",
      "\u001b[1;31mValueError\u001b[0m                                Traceback (most recent call last)",
      "Cell \u001b[1;32mIn[29], line 4\u001b[0m\n\u001b[0;32m      1\u001b[0m \u001b[39mimport\u001b[39;00m \u001b[39mgensim\u001b[39;00m\n\u001b[0;32m      3\u001b[0m glove_model_path \u001b[39m=\u001b[39m \u001b[39m'\u001b[39m\u001b[39mglove.6B.100d.txt\u001b[39m\u001b[39m'\u001b[39m\n\u001b[1;32m----> 4\u001b[0m glove_model \u001b[39m=\u001b[39m gensim\u001b[39m.\u001b[39;49mmodels\u001b[39m.\u001b[39;49mKeyedVectors\u001b[39m.\u001b[39;49mload_word2vec_format(glove_model_path,encoding \u001b[39m=\u001b[39;49m\u001b[39m'\u001b[39;49m\u001b[39mutf8\u001b[39;49m\u001b[39m'\u001b[39;49m)\n",
      "File \u001b[1;32mc:\\Users\\basel\\AppData\\Local\\Programs\\Python\\Python310\\lib\\site-packages\\gensim\\models\\keyedvectors.py:1719\u001b[0m, in \u001b[0;36mKeyedVectors.load_word2vec_format\u001b[1;34m(cls, fname, fvocab, binary, encoding, unicode_errors, limit, datatype, no_header)\u001b[0m\n\u001b[0;32m   1672\u001b[0m \u001b[39m@classmethod\u001b[39m\n\u001b[0;32m   1673\u001b[0m \u001b[39mdef\u001b[39;00m \u001b[39mload_word2vec_format\u001b[39m(\n\u001b[0;32m   1674\u001b[0m         \u001b[39mcls\u001b[39m, fname, fvocab\u001b[39m=\u001b[39m\u001b[39mNone\u001b[39;00m, binary\u001b[39m=\u001b[39m\u001b[39mFalse\u001b[39;00m, encoding\u001b[39m=\u001b[39m\u001b[39m'\u001b[39m\u001b[39mutf8\u001b[39m\u001b[39m'\u001b[39m, unicode_errors\u001b[39m=\u001b[39m\u001b[39m'\u001b[39m\u001b[39mstrict\u001b[39m\u001b[39m'\u001b[39m,\n\u001b[0;32m   1675\u001b[0m         limit\u001b[39m=\u001b[39m\u001b[39mNone\u001b[39;00m, datatype\u001b[39m=\u001b[39mREAL, no_header\u001b[39m=\u001b[39m\u001b[39mFalse\u001b[39;00m,\n\u001b[0;32m   1676\u001b[0m     ):\n\u001b[0;32m   1677\u001b[0m \u001b[39m    \u001b[39m\u001b[39m\"\"\"Load KeyedVectors from a file produced by the original C word2vec-tool format.\u001b[39;00m\n\u001b[0;32m   1678\u001b[0m \n\u001b[0;32m   1679\u001b[0m \u001b[39m    Warnings\u001b[39;00m\n\u001b[1;32m   (...)\u001b[0m\n\u001b[0;32m   1717\u001b[0m \n\u001b[0;32m   1718\u001b[0m \u001b[39m    \"\"\"\u001b[39;00m\n\u001b[1;32m-> 1719\u001b[0m     \u001b[39mreturn\u001b[39;00m _load_word2vec_format(\n\u001b[0;32m   1720\u001b[0m         \u001b[39mcls\u001b[39;49m, fname, fvocab\u001b[39m=\u001b[39;49mfvocab, binary\u001b[39m=\u001b[39;49mbinary, encoding\u001b[39m=\u001b[39;49mencoding, unicode_errors\u001b[39m=\u001b[39;49municode_errors,\n\u001b[0;32m   1721\u001b[0m         limit\u001b[39m=\u001b[39;49mlimit, datatype\u001b[39m=\u001b[39;49mdatatype, no_header\u001b[39m=\u001b[39;49mno_header,\n\u001b[0;32m   1722\u001b[0m     )\n",
      "File \u001b[1;32mc:\\Users\\basel\\AppData\\Local\\Programs\\Python\\Python310\\lib\\site-packages\\gensim\\models\\keyedvectors.py:2059\u001b[0m, in \u001b[0;36m_load_word2vec_format\u001b[1;34m(cls, fname, fvocab, binary, encoding, unicode_errors, limit, datatype, no_header, binary_chunk_size)\u001b[0m\n\u001b[0;32m   2057\u001b[0m \u001b[39melse\u001b[39;00m:\n\u001b[0;32m   2058\u001b[0m     header \u001b[39m=\u001b[39m utils\u001b[39m.\u001b[39mto_unicode(fin\u001b[39m.\u001b[39mreadline(), encoding\u001b[39m=\u001b[39mencoding)\n\u001b[1;32m-> 2059\u001b[0m     vocab_size, vector_size \u001b[39m=\u001b[39m [\u001b[39mint\u001b[39m(x) \u001b[39mfor\u001b[39;00m x \u001b[39min\u001b[39;00m header\u001b[39m.\u001b[39msplit()]  \u001b[39m# throws for invalid file format\u001b[39;00m\n\u001b[0;32m   2060\u001b[0m \u001b[39mif\u001b[39;00m limit:\n\u001b[0;32m   2061\u001b[0m     vocab_size \u001b[39m=\u001b[39m \u001b[39mmin\u001b[39m(vocab_size, limit)\n",
      "File \u001b[1;32mc:\\Users\\basel\\AppData\\Local\\Programs\\Python\\Python310\\lib\\site-packages\\gensim\\models\\keyedvectors.py:2059\u001b[0m, in \u001b[0;36m<listcomp>\u001b[1;34m(.0)\u001b[0m\n\u001b[0;32m   2057\u001b[0m \u001b[39melse\u001b[39;00m:\n\u001b[0;32m   2058\u001b[0m     header \u001b[39m=\u001b[39m utils\u001b[39m.\u001b[39mto_unicode(fin\u001b[39m.\u001b[39mreadline(), encoding\u001b[39m=\u001b[39mencoding)\n\u001b[1;32m-> 2059\u001b[0m     vocab_size, vector_size \u001b[39m=\u001b[39m [\u001b[39mint\u001b[39;49m(x) \u001b[39mfor\u001b[39;00m x \u001b[39min\u001b[39;00m header\u001b[39m.\u001b[39msplit()]  \u001b[39m# throws for invalid file format\u001b[39;00m\n\u001b[0;32m   2060\u001b[0m \u001b[39mif\u001b[39;00m limit:\n\u001b[0;32m   2061\u001b[0m     vocab_size \u001b[39m=\u001b[39m \u001b[39mmin\u001b[39m(vocab_size, limit)\n",
      "\u001b[1;31mValueError\u001b[0m: invalid literal for int() with base 10: 'the'"
     ]
    }
   ],
   "source": [
    "import gensim\n",
    "\n",
    "glove_model_path = 'glove.6B.100d.txt'\n",
    "glove_model = gensim.models.KeyedVectors.load_word2vec_format(glove_model_path,encoding ='utf8')\n"
   ]
  },
  {
   "cell_type": "code",
   "execution_count": null,
   "metadata": {},
   "outputs": [],
   "source": [
    "def generate_corrections(word, vocabulary, glove_model):\n",
    "    # Get the word vector for the given word\n",
    "    word_vector = glove_model[word]\n",
    "    # Find the cosine similarity between the word vector and all other word vectors in the vocabulary\n",
    "    cosine_similarities = {}\n",
    "    for vocab_word in vocabulary:\n",
    "        vocab_word_vector = glove_model[vocab_word]\n",
    "        cosine_similarity = np.dot(word_vector, vocab_word_vector) / (np.linalg.norm(word_vector) * np.linalg.norm(vocab_word_vector))\n",
    "        cosine_similarities[vocab_word] = cosine_similarity\n",
    "    # Sort the candidate corrections by cosine similarity\n",
    "    candidate_corrections = sorted(cosine_similarities.items(), key=lambda x: x[1], reverse=True)\n",
    "    return candidate_corrections\n"
   ]
  },
  {
   "cell_type": "code",
   "execution_count": null,
   "metadata": {},
   "outputs": [],
   "source": [
    "def auto_correct(input_text, vocabulary, glove_model):\n",
    "    # Tokenize the input text into words\n",
    "    words = input_text.split()\n",
    "    # Generate candidate corrections for each word\n",
    "    corrected_words = []\n",
    "    for word in words:\n",
    "        # Check if the word is in the vocabulary\n",
    "        if word in vocabulary:\n",
    "            corrected_words.append(word)\n",
    "        else:\n",
    "            # Generate candidate corrections\n",
    "            candidate_corrections = generate_corrections(word, vocabulary, glove_model)\n",
    "            # Select the best correction\n",
    "            best_correction = candidate_corrections[0][0]\n",
    "            corrected_words.append(best_correction)\n",
    "    # Join the corrected words back into a single string\n",
    "    corrected_text = ' '.join(corrected_words)\n",
    "    return corrected_text\n"
   ]
  },
  {
   "cell_type": "code",
   "execution_count": null,
   "metadata": {},
   "outputs": [],
   "source": [
    "input_text = \"I wnt to the park to play futbol.\"\n",
    "vocabulary = ['want', 'to', 'the', 'park', 'play', 'football']\n",
    "corrected_text = auto_correct(input_text, vocabulary, glove_model)\n",
    "print(corrected_text)\n"
   ]
  }
 ],
 "metadata": {
  "kernelspec": {
   "display_name": "Python 3",
   "language": "python",
   "name": "python3"
  },
  "language_info": {
   "codemirror_mode": {
    "name": "ipython",
    "version": 3
   },
   "file_extension": ".py",
   "mimetype": "text/x-python",
   "name": "python",
   "nbconvert_exporter": "python",
   "pygments_lexer": "ipython3",
   "version": "3.10.0"
  },
  "orig_nbformat": 4
 },
 "nbformat": 4,
 "nbformat_minor": 2
}
