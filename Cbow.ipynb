{
 "cells": [
  {
   "cell_type": "code",
   "execution_count": 1,
   "metadata": {},
   "outputs": [],
   "source": [
    "import numpy as np\n",
    "import keras.backend as K\n",
    "from keras.models import Sequential\n",
    "from keras.layers import Dense, Embedding, Lambda\n",
    "from keras.utils import np_utils\n",
    "from keras.preprocessing import sequence\n",
    "from keras.preprocessing.text import Tokenizer\n",
    "import gensim"
   ]
  },
  {
   "cell_type": "code",
   "execution_count": 2,
   "metadata": {},
   "outputs": [],
   "source": [
    "import numpy as np\n",
    "import tensorflow as tf\n",
    "from scipy.spatial.distance import cdist\n",
    "\n",
    "# Load GloVe word vectors\n",
    "def load_word_vectors(file_path):\n",
    "    with open(file_path, 'r', encoding='utf-8') as f:\n",
    "        words = set()\n",
    "        word_to_vec_map = {}\n",
    "        for line in f:\n",
    "            line = line.strip().split()\n",
    "            curr_word = line[0]\n",
    "            words.add(curr_word)\n",
    "            word_to_vec_map[curr_word] = np.array(line[1:], dtype=np.float64)\n",
    "    return words, word_to_vec_map\n",
    "\n",
    "# Load data and create vocabulary\n",
    "def load_data(file_path):\n",
    "    data = []\n",
    "    with open(file_path, 'r', encoding='utf-8') as f:\n",
    "        for line in f:\n",
    "            line = line.strip().split()\n",
    "            data.append(line)\n",
    "    words = set([word for line in data for word in line])\n",
    "    word_to_idx = {word: idx for idx, word in enumerate(words)}\n",
    "    idx_to_word = {idx: word for word, idx in word_to_idx.items()}\n",
    "    return data, word_to_idx, idx_to_word\n",
    "\n",
    "# Generate batches for training\n",
    "def generate_batches(data, word_to_idx, window_size, batch_size):\n",
    "    X, y = [], []\n",
    "    while True:\n",
    "        for line in data:\n",
    "            for i, word in enumerate(line):\n",
    "                for j in range(max(i - window_size, 0), min(i + window_size + 1, len(line))):\n",
    "                    if i != j:\n",
    "                        X.append(word_to_idx[word])\n",
    "                        y.append(word_to_idx[line[j]])\n",
    "                        if len(X) == batch_size:\n",
    "                            yield np.array(X), np.array(y)\n",
    "                            X, y = [], []\n",
    "\n",
    "# Build the CBOW model\n",
    "class CBOWModel(tf.keras.Model):\n",
    "    def __init__(self, vocab_size, embedding_size):\n",
    "        super(CBOWModel, self).__init__()\n",
    "        self.embeddings = tf.keras.layers.Embedding(input_dim=vocab_size, output_dim=embedding_size, input_length=1)\n",
    "        self.mean = tf.keras.layers.Lambda(lambda x: tf.keras.backend.mean(x, axis=1))\n",
    "        self.dense = tf.keras.layers.Dense(units=vocab_size, activation='softmax')\n",
    "        \n",
    "\n",
    "    def call(self, inputs):\n",
    "        x = self.embeddings(inputs)\n",
    "        x = self.mean(x)\n",
    "        x = self.dense(x.reshape(x,))\n",
    "        return x\n",
    "\n",
    "# Train the CBOW model\n",
    "def train_cbow_model(data_file, glove_file, window_size=2, embedding_size=100, batch_size=128, num_epochs=50, learning_rate=0.01, save_path=None):\n",
    "    # Load data and word vectors\n",
    "    data, word_to_idx, idx_to_word = load_data(data_file)\n",
    "    words, word_to_vec_map = load_word_vectors(glove_file)\n",
    "    vocab_size = len(word_to_idx)\n",
    "\n",
    "    # Generate batches for training\n",
    "    batch_generator = generate_batches(data, word_to_idx, window_size, batch_size)\n",
    "\n",
    "    # Build and compile the model\n",
    "    model = CBOWModel(vocab_size, embedding_size)\n",
    "    model.compile(optimizer=tf.optimizers.Adam(learning_rate=learning_rate), loss='sparse_categorical_crossentropy')\n",
    "\n",
    "    # Train the model\n",
    "    history = model.fit(batch_generator, epochs=num_epochs, steps_per_epoch=len(data) * (len(data[0]) - 2*window_size) // batch_size)\n",
    "\n",
    "    # Save the model\n",
    "    if save_path is not None:\n",
    "        model.save(save_path)\n",
    "\n",
    "    # Return the trained model\n",
    "    return model, word_to_idx, idx_to_word"
   ]
  },
  {
   "cell_type": "code",
   "execution_count": 21,
   "metadata": {},
   "outputs": [],
   "source": [
    "import numpy as np\n",
    "import pandas as pd\n",
    "from sklearn.metrics.pairwise import cosine_similarity\n",
    "from spellchecker import SpellChecker"
   ]
  },
  {
   "cell_type": "code",
   "execution_count": 16,
   "metadata": {},
   "outputs": [],
   "source": [
    "# Load the GloVe word embeddings\n",
    "def load_embeddings(embedding_file):\n",
    "    embeddings_index = {}\n",
    "    with open(embedding_file, encoding='utf-8') as f:\n",
    "        for line in f:\n",
    "            values = line.split()\n",
    "            word = values[0]\n",
    "            coefs = np.asarray(values[1:], dtype='float32')\n",
    "            embeddings_index[word] = coefs\n",
    "    return embeddings_index"
   ]
  },
  {
   "cell_type": "code",
   "execution_count": 17,
   "metadata": {},
   "outputs": [],
   "source": [
    "embedding_file = 'glove.6B.100d.txt'\n",
    "embeddings_index = load_embeddings(embedding_file)"
   ]
  },
  {
   "cell_type": "code",
   "execution_count": 18,
   "metadata": {},
   "outputs": [],
   "source": [
    "# Define a function to predict the next word given a context\n",
    "def predict_next_word(context):\n",
    "    context_words = context.split()\n",
    "    context_embedding = np.zeros((len(embeddings_index[next(iter(embeddings_index))]),))\n",
    "    for word in context_words:\n",
    "        if word in embeddings_index:\n",
    "            context_embedding += embeddings_index[word]\n",
    "    context_embedding /= len(context_words)\n",
    "    \n",
    "    similarities = {}\n",
    "    for word in embeddings_index.keys():\n",
    "        if word not in context_words:\n",
    "            word_embedding = embeddings_index[word]\n",
    "            sim = cosine_similarity([context_embedding], [word_embedding])[0][0]\n",
    "            similarities[word] = sim\n",
    "            \n",
    "    top_3_words = sorted(similarities.items(), key=lambda x: x[1], reverse=True)[:3]\n",
    "    return [w[0] for w in top_3_words]\n"
   ]
  },
  {
   "cell_type": "code",
   "execution_count": null,
   "metadata": {},
   "outputs": [],
   "source": [
    "# Example usage\n",
    "context = \"The cat sat on the\"\n",
    "predictions = predict_next_word(context)\n",
    "print(predictions)"
   ]
  },
  {
   "cell_type": "code",
   "execution_count": 52,
   "metadata": {},
   "outputs": [],
   "source": [
    "def spell_checker(text):\n",
    "    spell = SpellChecker()\n",
    "    spell.word_frequency.load_text_file('Frankenstein.txt')\n",
    "\n",
    "    # find those words that may be misspelled\n",
    "    misspelled = spell.unknown(['asd', 'theaa', 'funny'])\n",
    "    return misspelled\n"
   ]
  },
  {
   "cell_type": "code",
   "execution_count": 53,
   "metadata": {},
   "outputs": [
    {
     "data": {
      "text/plain": [
       "{'theaa'}"
      ]
     },
     "execution_count": 53,
     "metadata": {},
     "output_type": "execute_result"
    }
   ],
   "source": [
    "spell_checker(\"waht the fuc\")"
   ]
  },
  {
   "cell_type": "code",
   "execution_count": 24,
   "metadata": {},
   "outputs": [
    {
     "data": {
      "text/plain": [
       "['waht', 'the', 'fuc']"
      ]
     },
     "execution_count": 24,
     "metadata": {},
     "output_type": "execute_result"
    }
   ],
   "source": [
    "\"waht the fuc\".split()"
   ]
  },
  {
   "cell_type": "code",
   "execution_count": 54,
   "metadata": {},
   "outputs": [
    {
     "name": "stdout",
     "output_type": "stream",
     "text": [
      "2\n"
     ]
    }
   ],
   "source": [
    "import Levenshtein\n",
    "\n",
    "# Define the two strings\n",
    "str1 = 'hello'\n",
    "str2 = 'hlalo'\n",
    "\n",
    "# Calculate the Levenshtein distance between the two strings\n",
    "dist = Levenshtein.distance(str1, str2)\n",
    "print(dist)\n"
   ]
  },
  {
   "cell_type": "code",
   "execution_count": null,
   "metadata": {},
   "outputs": [],
   "source": []
  }
 ],
 "metadata": {
  "kernelspec": {
   "display_name": "Python 3",
   "language": "python",
   "name": "python3"
  },
  "language_info": {
   "codemirror_mode": {
    "name": "ipython",
    "version": 3
   },
   "file_extension": ".py",
   "mimetype": "text/x-python",
   "name": "python",
   "nbconvert_exporter": "python",
   "pygments_lexer": "ipython3",
   "version": "3.10.5"
  },
  "orig_nbformat": 4
 },
 "nbformat": 4,
 "nbformat_minor": 2
}
