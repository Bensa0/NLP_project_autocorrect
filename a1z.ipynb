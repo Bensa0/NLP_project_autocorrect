{
 "cells": [
  {
   "cell_type": "code",
   "execution_count": 1,
   "metadata": {},
   "outputs": [
    {
     "ename": "NameError",
     "evalue": "name 'np_utils' is not defined",
     "output_type": "error",
     "traceback": [
      "\u001b[1;31m---------------------------------------------------------------------------\u001b[0m",
      "\u001b[1;31mNameError\u001b[0m                                 Traceback (most recent call last)",
      "Cell \u001b[1;32mIn[1], line 47\u001b[0m\n\u001b[0;32m     45\u001b[0m loss \u001b[39m=\u001b[39m \u001b[39m0\u001b[39m\n\u001b[0;32m     46\u001b[0m i \u001b[39m=\u001b[39m \u001b[39m0\u001b[39m\n\u001b[1;32m---> 47\u001b[0m \u001b[39mfor\u001b[39;00m x, y \u001b[39min\u001b[39;00m generate_context_word_pairs(corpus, window_size, vocab_size):\n\u001b[0;32m     48\u001b[0m     i \u001b[39m+\u001b[39m\u001b[39m=\u001b[39m \u001b[39m1\u001b[39m\n\u001b[0;32m     49\u001b[0m     loss \u001b[39m+\u001b[39m\u001b[39m=\u001b[39m cbow\u001b[39m.\u001b[39mtrain_on_batch(x, y)[\u001b[39m0\u001b[39m]\n",
      "Cell \u001b[1;32mIn[1], line 32\u001b[0m, in \u001b[0;36mgenerate_context_word_pairs\u001b[1;34m(corpus, window_size, vocab_size)\u001b[0m\n\u001b[0;32m     30\u001b[0m label_word\u001b[39m.\u001b[39mappend(word)\n\u001b[0;32m     31\u001b[0m x \u001b[39m=\u001b[39m pad_sequences(context_words, maxlen\u001b[39m=\u001b[39mcontext_length)\n\u001b[1;32m---> 32\u001b[0m y \u001b[39m=\u001b[39m np_utils\u001b[39m.\u001b[39mto_categorical(label_word, vocab_size)\n\u001b[0;32m     33\u001b[0m \u001b[39myield\u001b[39;00m (x, y)\n",
      "\u001b[1;31mNameError\u001b[0m: name 'np_utils' is not defined"
     ]
    }
   ],
   "source": [
    "import numpy as np\n",
    "from tensorflow.keras.preprocessing.text import Tokenizer\n",
    "from tensorflow.keras.preprocessing.sequence import pad_sequences\n",
    "from tensorflow.keras.models import Sequential\n",
    "from tensorflow.keras.layers import Embedding, Dense, Lambda\n",
    "from tensorflow.keras import backend as K\n",
    "from sklearn.metrics.pairwise import cosine_similarity\n",
    "\n",
    "\n",
    "\n",
    "# Step 1: Train the CBOW model on a large corpus of text to generate word embeddings.\n",
    "corpus = [\"the cat sat on the mat\", \"the dog ran in the park\", \"the bird flew in the sky\"]\n",
    "tokenizer = Tokenizer()\n",
    "tokenizer.fit_on_texts(corpus)\n",
    "vocab_size = len(tokenizer.word_index) + 1\n",
    "\n",
    "embedding_dim = 50\n",
    "window_size = 2\n",
    "\n",
    "def generate_context_word_pairs(corpus, window_size, vocab_size):\n",
    "    context_length = window_size*2\n",
    "    for sentence in corpus:\n",
    "        sentence = tokenizer.texts_to_sequences([sentence])[0]\n",
    "        for i, word in enumerate(sentence):\n",
    "            context_words = []\n",
    "            label_word = []\n",
    "            start = i - window_size\n",
    "            end = i + window_size + 1\n",
    "            context_words.append([sentence[idx] for idx in range(start, end) if 0 <= idx < len(sentence) and idx != i])\n",
    "            label_word.append(word)\n",
    "            x = pad_sequences(context_words, maxlen=context_length)\n",
    "            y = np_utils.to_categorical(label_word, vocab_size)\n",
    "            yield (x, y)\n",
    "\n",
    "\n",
    "\n",
    "cbow = cbow_model(vocab_size, embedding_dim, window_size)\n",
    "for epoch in range(1, 6):\n",
    "    loss = 0\n",
    "    i = 0\n",
    "    for x, y in generate_context_word_pairs(corpus, window_size, vocab_size):\n",
    "        i += 1\n",
    "        loss += cbow.train_on_batch(x, y)[0]\n",
    "        if i % 1000 == 0:\n",
    "            print('Processed %s context/label pairs' % i)\n",
    "    print('Epoch:', epoch, '\\tLoss:', loss)\n",
    "\n",
    "# Step 2: Generate word embeddings for the input text by averaging the embeddings of the surrounding words.\n",
    "input_text = \"the ct sat on the mat\"\n",
    "input_sequence = tokenizer.texts_to_sequences([input_text])[0]\n",
    "context_words = []\n",
    "for i, word in enumerate(input_sequence):\n",
    "    context_words.append([input_sequence[idx] for idx in range(i-window_size, i+window_size+1) if 0 <= idx < len(input_sequence) and idx != i])\n",
    "context_words = np.array(context_words)\n",
    "input_embedding = np.mean(cbow.layers[0].get_weights()[0][context_words], axis=1)\n",
    "\n",
    "# Step 3: Compute the cosine similarity between the input word and all the words in the vocabulary using the generated embeddings.\n",
    "cosine_similarities = cosine_similarity(input_embedding.reshape(1, -1), cbow.layers[0].get_weights()[0])\n",
    "\n",
    "# Step 4: Select the word(s) with the highest cosine similarity as the most likely candidates for autocorrection.\n",
    "top_indices = np.argsort(cosine_similarities[0])[:-4:-1]\n",
    "\n",
    "for i, index in enumerate(top_indices):\n",
    "    if i == 0:\n",
    "        print(f\"Autocorrect suggestions for '{word}':\")\n",
    "    print(f\"{reverse_word_index[index+1]} ({cosine_similarities[0][index]:.3f})\")\n",
    "\n"
   ]
  }
 ],
 "metadata": {
  "kernelspec": {
   "display_name": "Python 3",
   "language": "python",
   "name": "python3"
  },
  "language_info": {
   "codemirror_mode": {
    "name": "ipython",
    "version": 3
   },
   "file_extension": ".py",
   "mimetype": "text/x-python",
   "name": "python",
   "nbconvert_exporter": "python",
   "pygments_lexer": "ipython3",
   "version": "3.10.0"
  },
  "orig_nbformat": 4
 },
 "nbformat": 4,
 "nbformat_minor": 2
}
